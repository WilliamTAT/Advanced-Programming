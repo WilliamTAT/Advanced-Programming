{
 "cells": [
  {
   "cell_type": "code",
   "execution_count": 3,
   "metadata": {
    "collapsed": false
   },
   "outputs": [
    {
     "name": "stdout",
     "output_type": "stream",
     "text": [
      "*** Introductory Examples for the NLTK Book ***\n",
      "Loading text1, ..., text9 and sent1, ..., sent9\n",
      "Type the name of the text or sentence to view it.\n",
      "Type: 'texts()' or 'sents()' to list the materials.\n",
      "text1: Moby Dick by Herman Melville 1851\n",
      "text2: Sense and Sensibility by Jane Austen 1811\n",
      "text3: The Book of Genesis\n",
      "text4: Inaugural Address Corpus\n",
      "text5: Chat Corpus\n",
      "text6: Monty Python and the Holy Grail\n",
      "text7: Wall Street Journal\n",
      "text8: Personals Corpus\n",
      "text9: The Man Who Was Thursday by G . K . Chesterton 1908\n"
     ]
    }
   ],
   "source": [
    "from nltk.book import *"
   ]
  },
  {
   "cell_type": "markdown",
   "metadata": {},
   "source": [
    "# 1. Language Processing and Python"
   ]
  },
  {
   "cell_type": "markdown",
   "metadata": {},
   "source": [
    "## Frequency distributions"
   ]
  },
  {
   "cell_type": "markdown",
   "metadata": {},
   "source": [
    "### 让我们使用FreqDist找到Moby Dick最常用的50个单词："
   ]
  },
  {
   "cell_type": "code",
   "execution_count": 4,
   "metadata": {
    "collapsed": true
   },
   "outputs": [],
   "source": [
    "fdist1 = FreqDist(text1)"
   ]
  },
  {
   "cell_type": "code",
   "execution_count": 5,
   "metadata": {
    "collapsed": false
   },
   "outputs": [
    {
     "name": "stdout",
     "output_type": "stream",
     "text": [
      "<FreqDist with 19317 samples and 260819 outcomes>\n"
     ]
    }
   ],
   "source": [
    "print(fdist1)"
   ]
  },
  {
   "cell_type": "code",
   "execution_count": 6,
   "metadata": {
    "collapsed": false
   },
   "outputs": [
    {
     "data": {
      "text/plain": [
       "[(',', 18713),\n",
       " ('the', 13721),\n",
       " ('.', 6862),\n",
       " ('of', 6536),\n",
       " ('and', 6024),\n",
       " ('a', 4569),\n",
       " ('to', 4542),\n",
       " (';', 4072),\n",
       " ('in', 3916),\n",
       " ('that', 2982),\n",
       " (\"'\", 2684),\n",
       " ('-', 2552),\n",
       " ('his', 2459),\n",
       " ('it', 2209),\n",
       " ('I', 2124),\n",
       " ('s', 1739),\n",
       " ('is', 1695),\n",
       " ('he', 1661),\n",
       " ('with', 1659),\n",
       " ('was', 1632),\n",
       " ('as', 1620),\n",
       " ('\"', 1478),\n",
       " ('all', 1462),\n",
       " ('for', 1414),\n",
       " ('this', 1280),\n",
       " ('!', 1269),\n",
       " ('at', 1231),\n",
       " ('by', 1137),\n",
       " ('but', 1113),\n",
       " ('not', 1103),\n",
       " ('--', 1070),\n",
       " ('him', 1058),\n",
       " ('from', 1052),\n",
       " ('be', 1030),\n",
       " ('on', 1005),\n",
       " ('so', 918),\n",
       " ('whale', 906),\n",
       " ('one', 889),\n",
       " ('you', 841),\n",
       " ('had', 767),\n",
       " ('have', 760),\n",
       " ('there', 715),\n",
       " ('But', 705),\n",
       " ('or', 697),\n",
       " ('were', 680),\n",
       " ('now', 646),\n",
       " ('which', 640),\n",
       " ('?', 637),\n",
       " ('me', 627),\n",
       " ('like', 624)]"
      ]
     },
     "execution_count": 6,
     "metadata": {},
     "output_type": "execute_result"
    }
   ],
   "source": [
    "fdist1.most_common(50)"
   ]
  },
  {
   "cell_type": "markdown",
   "metadata": {},
   "source": [
    "# 2. Accessing Text Corpora and Lexical Resources"
   ]
  },
  {
   "cell_type": "code",
   "execution_count": 8,
   "metadata": {
    "collapsed": true
   },
   "outputs": [],
   "source": [
    "from nltk.corpus import gutenberg"
   ]
  },
  {
   "cell_type": "code",
   "execution_count": 9,
   "metadata": {
    "collapsed": false
   },
   "outputs": [
    {
     "data": {
      "text/plain": [
       "['austen-emma.txt',\n",
       " 'austen-persuasion.txt',\n",
       " 'austen-sense.txt',\n",
       " 'bible-kjv.txt',\n",
       " 'blake-poems.txt',\n",
       " 'bryant-stories.txt',\n",
       " 'burgess-busterbrown.txt',\n",
       " 'carroll-alice.txt',\n",
       " 'chesterton-ball.txt',\n",
       " 'chesterton-brown.txt',\n",
       " 'chesterton-thursday.txt',\n",
       " 'edgeworth-parents.txt',\n",
       " 'melville-moby_dick.txt',\n",
       " 'milton-paradise.txt',\n",
       " 'shakespeare-caesar.txt',\n",
       " 'shakespeare-hamlet.txt',\n",
       " 'shakespeare-macbeth.txt',\n",
       " 'whitman-leaves.txt']"
      ]
     },
     "execution_count": 9,
     "metadata": {},
     "output_type": "execute_result"
    }
   ],
   "source": [
    "gutenberg.fileids()"
   ]
  },
  {
   "cell_type": "code",
   "execution_count": 10,
   "metadata": {
    "collapsed": true
   },
   "outputs": [],
   "source": [
    "emma = gutenberg.words('austen-emma.txt')"
   ]
  },
  {
   "cell_type": "code",
   "execution_count": 11,
   "metadata": {
    "collapsed": false
   },
   "outputs": [
    {
     "data": {
      "text/plain": [
       "['[', 'Emma', 'by', 'Jane', 'Austen', '1816', ']', ...]"
      ]
     },
     "execution_count": 11,
     "metadata": {},
     "output_type": "execute_result"
    }
   ],
   "source": [
    "emma"
   ]
  },
  {
   "cell_type": "code",
   "execution_count": 12,
   "metadata": {
    "collapsed": false
   },
   "outputs": [
    {
     "name": "stdout",
     "output_type": "stream",
     "text": [
      "5 25 26 austen-emma.txt\n",
      "5 26 17 austen-persuasion.txt\n",
      "5 28 22 austen-sense.txt\n",
      "4 34 79 bible-kjv.txt\n",
      "5 19 5 blake-poems.txt\n",
      "4 19 14 bryant-stories.txt\n",
      "4 18 12 burgess-busterbrown.txt\n",
      "4 20 13 carroll-alice.txt\n",
      "5 20 12 chesterton-ball.txt\n",
      "5 23 11 chesterton-brown.txt\n",
      "5 18 11 chesterton-thursday.txt\n",
      "4 21 25 edgeworth-parents.txt\n",
      "5 26 15 melville-moby_dick.txt\n",
      "5 52 11 milton-paradise.txt\n",
      "4 12 9 shakespeare-caesar.txt\n",
      "4 12 8 shakespeare-hamlet.txt\n",
      "4 12 7 shakespeare-macbeth.txt\n",
      "5 36 12 whitman-leaves.txt\n"
     ]
    }
   ],
   "source": [
    "for fileid in gutenberg.fileids():\n",
    "    num_chars = len(gutenberg.raw(fileid)) #字母数\n",
    "    num_words = len(gutenberg.words(fileid))  #单词数\n",
    "    num_sents = len(gutenberg.sents(fileid)) #句子数\n",
    "    num_vocab = len(set(w.lower() for w in gutenberg.words(fileid)))  # 所有词转化为小写，组成字典\n",
    "    print(round(num_chars/num_words), round(num_words/num_sents), round(num_words/num_vocab), fileid)"
   ]
  },
  {
   "cell_type": "markdown",
   "metadata": {},
   "source": [
    "### 获得句子"
   ]
  },
  {
   "cell_type": "code",
   "execution_count": 13,
   "metadata": {
    "collapsed": true
   },
   "outputs": [],
   "source": [
    "sentence = gutenberg.sents('austen-emma.txt')"
   ]
  },
  {
   "cell_type": "code",
   "execution_count": 14,
   "metadata": {
    "collapsed": false
   },
   "outputs": [
    {
     "data": {
      "text/plain": [
       "[['[', 'Emma', 'by', 'Jane', 'Austen', '1816', ']'], ['VOLUME', 'I'], ...]"
      ]
     },
     "execution_count": 14,
     "metadata": {},
     "output_type": "execute_result"
    }
   ],
   "source": [
    "sentence"
   ]
  },
  {
   "cell_type": "code",
   "execution_count": 15,
   "metadata": {
    "collapsed": true
   },
   "outputs": [],
   "source": [
    "macbeth_sentences = gutenberg.sents('shakespeare-macbeth.txt')"
   ]
  },
  {
   "cell_type": "code",
   "execution_count": 16,
   "metadata": {
    "collapsed": false
   },
   "outputs": [
    {
     "data": {
      "text/plain": [
       "[['[', 'The', 'Tragedie', 'of', 'Macbeth', 'by', 'William', 'Shakespeare', '1603', ']'], ['Actus', 'Primus', '.'], ...]"
      ]
     },
     "execution_count": 16,
     "metadata": {},
     "output_type": "execute_result"
    }
   ],
   "source": [
    "macbeth_sentences"
   ]
  },
  {
   "cell_type": "code",
   "execution_count": 17,
   "metadata": {
    "collapsed": false
   },
   "outputs": [
    {
     "data": {
      "text/plain": [
       "['Double',\n",
       " ',',\n",
       " 'double',\n",
       " ',',\n",
       " 'toile',\n",
       " 'and',\n",
       " 'trouble',\n",
       " ';',\n",
       " 'Fire',\n",
       " 'burne',\n",
       " ',',\n",
       " 'and',\n",
       " 'Cauldron',\n",
       " 'bubble']"
      ]
     },
     "execution_count": 17,
     "metadata": {},
     "output_type": "execute_result"
    }
   ],
   "source": [
    "macbeth_sentences[1116]"
   ]
  },
  {
   "cell_type": "code",
   "execution_count": 18,
   "metadata": {
    "collapsed": true
   },
   "outputs": [],
   "source": [
    "longest_len = max(len(s) for s in macbeth_sentences)"
   ]
  },
  {
   "cell_type": "markdown",
   "metadata": {},
   "source": [
    "打印词数最多的一句话"
   ]
  },
  {
   "cell_type": "code",
   "execution_count": 20,
   "metadata": {
    "collapsed": false
   },
   "outputs": [
    {
     "data": {
      "text/plain": [
       "[['Doubtfull',\n",
       "  'it',\n",
       "  'stood',\n",
       "  ',',\n",
       "  'As',\n",
       "  'two',\n",
       "  'spent',\n",
       "  'Swimmers',\n",
       "  ',',\n",
       "  'that',\n",
       "  'doe',\n",
       "  'cling',\n",
       "  'together',\n",
       "  ',',\n",
       "  'And',\n",
       "  'choake',\n",
       "  'their',\n",
       "  'Art',\n",
       "  ':',\n",
       "  'The',\n",
       "  'mercilesse',\n",
       "  'Macdonwald',\n",
       "  '(',\n",
       "  'Worthie',\n",
       "  'to',\n",
       "  'be',\n",
       "  'a',\n",
       "  'Rebell',\n",
       "  ',',\n",
       "  'for',\n",
       "  'to',\n",
       "  'that',\n",
       "  'The',\n",
       "  'multiplying',\n",
       "  'Villanies',\n",
       "  'of',\n",
       "  'Nature',\n",
       "  'Doe',\n",
       "  'swarme',\n",
       "  'vpon',\n",
       "  'him',\n",
       "  ')',\n",
       "  'from',\n",
       "  'the',\n",
       "  'Westerne',\n",
       "  'Isles',\n",
       "  'Of',\n",
       "  'Kernes',\n",
       "  'and',\n",
       "  'Gallowgrosses',\n",
       "  'is',\n",
       "  'supply',\n",
       "  \"'\",\n",
       "  'd',\n",
       "  ',',\n",
       "  'And',\n",
       "  'Fortune',\n",
       "  'on',\n",
       "  'his',\n",
       "  'damned',\n",
       "  'Quarry',\n",
       "  'smiling',\n",
       "  ',',\n",
       "  'Shew',\n",
       "  \"'\",\n",
       "  'd',\n",
       "  'like',\n",
       "  'a',\n",
       "  'Rebells',\n",
       "  'Whore',\n",
       "  ':',\n",
       "  'but',\n",
       "  'all',\n",
       "  \"'\",\n",
       "  's',\n",
       "  'too',\n",
       "  'weake',\n",
       "  ':',\n",
       "  'For',\n",
       "  'braue',\n",
       "  'Macbeth',\n",
       "  '(',\n",
       "  'well',\n",
       "  'hee',\n",
       "  'deserues',\n",
       "  'that',\n",
       "  'Name',\n",
       "  ')',\n",
       "  'Disdayning',\n",
       "  'Fortune',\n",
       "  ',',\n",
       "  'with',\n",
       "  'his',\n",
       "  'brandisht',\n",
       "  'Steele',\n",
       "  ',',\n",
       "  'Which',\n",
       "  'smoak',\n",
       "  \"'\",\n",
       "  'd',\n",
       "  'with',\n",
       "  'bloody',\n",
       "  'execution',\n",
       "  '(',\n",
       "  'Like',\n",
       "  'Valours',\n",
       "  'Minion',\n",
       "  ')',\n",
       "  'caru',\n",
       "  \"'\",\n",
       "  'd',\n",
       "  'out',\n",
       "  'his',\n",
       "  'passage',\n",
       "  ',',\n",
       "  'Till',\n",
       "  'hee',\n",
       "  'fac',\n",
       "  \"'\",\n",
       "  'd',\n",
       "  'the',\n",
       "  'Slaue',\n",
       "  ':',\n",
       "  'Which',\n",
       "  'neu',\n",
       "  \"'\",\n",
       "  'r',\n",
       "  'shooke',\n",
       "  'hands',\n",
       "  ',',\n",
       "  'nor',\n",
       "  'bad',\n",
       "  'farwell',\n",
       "  'to',\n",
       "  'him',\n",
       "  ',',\n",
       "  'Till',\n",
       "  'he',\n",
       "  'vnseam',\n",
       "  \"'\",\n",
       "  'd',\n",
       "  'him',\n",
       "  'from',\n",
       "  'the',\n",
       "  'Naue',\n",
       "  'toth',\n",
       "  \"'\",\n",
       "  'Chops',\n",
       "  ',',\n",
       "  'And',\n",
       "  'fix',\n",
       "  \"'\",\n",
       "  'd',\n",
       "  'his',\n",
       "  'Head',\n",
       "  'vpon',\n",
       "  'our',\n",
       "  'Battlements']]"
      ]
     },
     "execution_count": 20,
     "metadata": {},
     "output_type": "execute_result"
    }
   ],
   "source": [
    "[s for s in macbeth_sentences if len(s) == longest_len]"
   ]
  },
  {
   "cell_type": "code",
   "execution_count": 23,
   "metadata": {
    "collapsed": true
   },
   "outputs": [],
   "source": [
    "import nltk"
   ]
  },
  {
   "cell_type": "code",
   "execution_count": 24,
   "metadata": {
    "collapsed": false
   },
   "outputs": [
    {
     "data": {
      "image/png": "[encoded data removed]",
      "text/plain": [
       "<matplotlib.figure.Figure at 0x20b926ba4a8>"
      ]
     },
     "metadata": {},
     "output_type": "display_data"
    }
   ],
   "source": [
    "from nltk.corpus import udhr\n",
    "languages = ['Chickasaw', 'English', 'German_Deutsch','Greenlandic_Inuktikut', 'Hungarian_Magyar', 'Ibibio_Efik']\n",
    "cfd = nltk.ConditionalFreqDist((lang, len(word)) for lang in languages for word in udhr.words(lang + '-Latin1'))\n",
    "cfd.plot(cumulative=True)"
   ]
  },
  {
   "cell_type": "code",
   "execution_count": 25,
   "metadata": {
    "collapsed": true
   },
   "outputs": [],
   "source": [
    "raw = gutenberg.raw(\"burgess-busterbrown.txt\")"
   ]
  },
  {
   "cell_type": "code",
   "execution_count": 26,
   "metadata": {
    "collapsed": false
   },
   "outputs": [
    {
     "data": {
      "text/plain": [
       "'[The Adventures of Buster Bear by Thornton W. Burgess 1920]\\r\\n\\r\\nI\\r\\n\\r\\nBUSTER BEAR GOES FISHING\\r\\n\\r\\n\\r\\nBuster Bear yawned as he lay on his comfortable bed of leaves and\\r\\nwatched the first early morning sunbeams creeping through the Green\\r\\nForest to chase out the Black Shadows. Once more he yawned, and slowly\\r\\ngot to his feet and shook himself. Then he walked over to a big\\r\\npine-tree, stood up on his hind legs, reached as high up on the trunk of\\r\\nthe tree as he could, and scratched the bark with his great claws. After\\r\\nthat he yawned until it seemed as if his jaws would crack, and then sat\\r\\ndown to think what he wanted for breakfast.\\r\\n\\r\\nWhile he sat there, trying to make up his mind what would taste best, he\\r\\nwas listening to the sounds that told of the waking of all the little\\r\\npeople who live in the Green Forest. He heard Sammy Jay way off in the\\r\\ndistance screaming, \"Thief! Thief!\" and grinned. \"I wonder,\" thought\\r\\nBuster, \"if some one has stolen Sammy\\'s breakfast, or if he has stolen\\r\\nthe breakfast of some one else. Probably he is the thief himself.\"\\r\\n\\r\\nHe heard Chatterer the Red Squirrel scolding as fast as he could make\\r\\nhis tongue go and working himself into a terrible rage. \"Must be that\\r\\nChatterer got out of bed the wrong way this morning,\" thought he.\\r\\n\\r\\nHe heard Blacky the Crow cawing at the top of his lungs, and he knew by\\r\\nthe sound that Blacky was getting into mischief of some kind. He heard\\r\\nthe sweet voices of happy little singers, and they were good to hear.\\r\\nBut most of all he listened to a merry, low, silvery laugh that never\\r\\nstopped but went on and on, until he just felt as if he must laugh too.\\r\\nIt was the voice of the Laughing Brook. And as Buster listened it\\r\\nsuddenly came to him just what he wanted for breakfast.\\r\\n\\r\\n\"I\\'m going fishing,\" said he in his deep grumbly-rumbly voice to no one\\r\\nin particular. \"Yes, Sir, I\\'m going fishing. I want some fat trout for\\r\\nmy breakfast.\"\\r\\n\\r\\nHe shuffled along over to the Laughing Brook, and straight to a little\\r\\npool of which he knew, and as he drew near he took the greatest care not\\r\\nto make the teeniest, weeniest bit of noise. Now it just happened that\\r\\nearly as he was, some one was before Buster Bear. When he came in sight\\r\\nof the little pool, who should he see but another fisherman there, who\\r\\nhad already caught a fine fat trout. Who was it? Why, Little Joe Otter\\r\\nto be sure. He was just climbing up the bank with the fat trout in his\\r\\nmouth. Buster Bear\\'s own mouth watered as he saw it. Little Joe sat down\\r\\non the bank and prepared to enjoy his breakfast. He hadn\\'t seen Buster\\r\\nBear, and he didn\\'t know that he or any one else was anywhere near.\\r\\n\\r\\nBuster Bear tiptoed up very softly until he was right behind Little Joe\\r\\nOtter. \"Woof, woof!\" said he in his deepest, most grumbly-rumbly voice.\\r\\n\"That\\'s a very fine looking trout. I wouldn\\'t mind if I had it myself.\"\\r\\n\\r\\nLittle Joe Otter gave a frightened squeal and without even turning to\\r\\nsee who was speaking dropped his fish and dived headfirst into the\\r\\nLaughing Brook. Buster Bear sprang forward and with one of his big paws\\r\\ncaught the fat trout just as it was slipping back into the water.\\r\\n\\r\\n\"Here\\'s your trout, Mr. Otter,\" said he, as Little Joe put his head out\\r\\nof water to see who had frightened him so. \"Come and get it.\"\\r\\n\\r\\n[Illustration: \"Here\\'s your trout, Mr. Otter,\" said he. _Page 5._]\\r\\n\\r\\nBut Little Joe wouldn\\'t. The fact is, he was afraid to. He snarled at\\r\\nBuster Bear and called him a thief and everything bad he could think of.\\r\\nBuster didn\\'t seem to mind. He chuckled as if he thought it all a great\\r\\njoke and repeated his invitation to Little Joe to come and get his fish.\\r\\nBut Little Joe just turned his back and went off down the Laughing Brook\\r\\nin a great rage.\\r\\n\\r\\n\"It\\'s too bad to waste such a fine fish,\" said Buster thoughtfully. \"I\\r\\nwonder what I\\'d better do with it.\" And while he was wondering, he ate\\r\\nit all up. Then he started down the Laughing Brook to try to catch some\\r\\nfor himself.\\r\\n\\r\\n\\r\\n\\r\\n\\r\\nII\\r\\n\\r\\nLITTLE JOE OTTER GETS EVEN WITH BUSTER BEAR\\r\\n\\r\\n\\r\\nLittle Joe Otter was in a terrible rage. It was a bad beginning for a\\r\\nbeautiful day and Little Joe knew it. But who wouldn\\'t be in a rage if\\r\\nhis breakfast was taken from him just as he was about to eat it? Anyway,\\r\\nthat is what Little Joe told Billy Mink. Perhaps he didn\\'t tell it quite\\r\\nexactly as it was, but you know he was very badly frightened at the\\r\\ntime.\\r\\n\\r\\n\"I was sitting on the bank of the Laughing Brook beside one of the\\r\\nlittle pools,\" he told Billy Mink, \"and was just going to eat a fat\\r\\ntrout I had caught, when who should come along but that great big\\r\\nbully, Buster Bear. He took that fat trout away from me and ate it just\\r\\nas if it belonged to him! I hate him! If I live long enough I\\'m going to\\r\\nget even with him!\"\\r\\n\\r\\nOf course that wasn\\'t nice talk and anything but a nice spirit, but\\r\\nLittle Joe Otter\\'s temper is sometimes pretty short, especially when he\\r\\nis hungry, and this time he had had no breakfast, you know.\\r\\n\\r\\nBuster Bear hadn\\'t actually taken the fish away from Little Joe. But\\r\\nlooking at the matter as Little Joe did, it amounted to the same thing.\\r\\nYou see, Buster knew perfectly well when he invited Little Joe to come\\r\\nback and get it that Little Joe wouldn\\'t dare do anything of the kind.\\r\\n\\r\\n\"Where is he now?\" asked Billy Mink.\\r\\n\\r\\n\"He\\'s somewhere up the Laughing Brook. I wish he\\'d fall in and get\\r\\ndrowned!\" snapped Little Joe.\\r\\n\\r\\nBilly Mink just had to laugh. The idea of great big Buster Bear getting\\r\\ndrowned in the Laughing Brook was too funny. There wasn\\'t water enough\\r\\nin it anywhere except down in the Smiling Pool, and that was on the\\r\\nGreen Meadows, where Buster had never been known to go. \"Let\\'s go see\\r\\nwhat he is doing,\" said Billy Mink.\\r\\n\\r\\nAt first Little Joe didn\\'t want to, but at last his curiosity got the\\r\\nbetter of his fear, and he agreed. So the two little brown-coated scamps\\r\\nturned down the Laughing Brook, taking the greatest care to keep out of\\r\\nsight themselves. They had gone only a little way when Billy Mink\\r\\nwhispered: \"Sh-h! There he is.\"\\r\\n\\r\\nSure enough, there was Buster Bear sitting close beside a little pool\\r\\nand looking into it very intently.\\r\\n\\r\\n\"What\\'s he doing?\" asked Little Joe Otter, as Buster Bear sat for the\\r\\nlongest time without moving.\\r\\n\\r\\nJust then one of Buster\\'s big paws went into the water as quick as a\\r\\nflash and scooped out a trout that had ventured too near.\\r\\n\\r\\n\"He\\'s fishing!\" exclaimed Billy Mink.\\r\\n\\r\\nAnd that is just what Buster Bear was doing, and it was very plain to\\r\\nsee that he was having great fun. When he had eaten the trout he had\\r\\ncaught, he moved along to the next little pool.\\r\\n\\r\\n\"They are _our_ fish!\" said Little Joe fiercely. \"He has no business\\r\\ncatching _our_ fish!\"\\r\\n\\r\\n\"I don\\'t see how we are going to stop him,\" said Billy Mink.\\r\\n\\r\\n\"I do!\" cried Little Joe, into whose head an idea had just popped. \"I\\'m\\r\\ngoing to drive all the fish out of the little pools and muddy the water\\r\\nall up. Then we\\'ll see how many fish he will get! Just you watch me get\\r\\neven with Buster Bear.\"\\r\\n\\r\\nLittle Joe slipped swiftly into the water and swam straight to the\\r\\nlittle pool that Buster Bear would try next. He frightened the fish so\\r\\nthat they fled in every direction. Then he stirred up the mud until the\\r\\nwater was so dirty that Buster couldn\\'t have seen a fish right under his\\r\\nnose. He did the same thing in the next pool and the next. Buster Bear\\'s\\r\\nfishing was spoiled for that day.\\r\\n\\r\\n\\r\\n\\r\\n\\r\\nIII\\r\\n\\r\\nBUSTER BEAR IS GREATLY PUZZLED\\r\\n\\r\\n\\r\\nBuster Bear hadn\\'t enjoyed himself so much since he came to the Green\\r\\nForest to live. His fun began when he surprised Little Joe Otter on the\\r\\nbank of a little pool in the Laughing Brook and Little Joe was so\\r\\nfrightened that he dropped a fat trout he had just caught. It had seemed\\r\\nlike a great joke to Buster Bear, and he had chuckled over it all the\\r\\ntime he was eating the fat trout. When he had finished it, he started on\\r\\nto do some fishing himself.\\r\\n\\r\\nPresently he came to another little pool. He stole up to it very, very\\r\\nsoftly, so as not to frighten the fish. Then he sat down close to the\\r\\nedge of it and didn\\'t move. Buster learned a long time ago that a\\r\\nfisherman must be patient unless, like Little Joe Otter, he is just as\\r\\nmuch at home in the water as the fish themselves, and can swim fast\\r\\nenough to catch them by chasing them. So he didn\\'t move so much as an\\r\\neye lash. He was so still that he looked almost like the stump of an old\\r\\ntree. Perhaps that is what the fish thought he was, for pretty soon, two\\r\\nor three swam right in close to where he was sitting. Now Buster Bear\\r\\nmay be big and clumsy looking, but there isn\\'t anything that can move\\r\\nmuch quicker than one of those big paws of his when he wants it to. One\\r\\nof them moved now, and quicker than a wink had scooped one of those\\r\\nfoolish fish out on to the bank.\\r\\n\\r\\nBuster\\'s little eyes twinkled, and he smacked his lips as he moved on\\r\\nto the next little pool, for he knew that it was of no use to stay\\r\\nlonger at the first one. The fish were so frightened that they wouldn\\'t\\r\\ncome back for a long, long time. At the next little pool the same thing\\r\\nhappened. By this time Buster Bear was in fine spirits. It was fun to\\r\\ncatch the fish, and it was still more fun to eat them. What finer\\r\\nbreakfast could any one have than fresh-caught trout? No wonder he felt\\r\\ngood! But it takes more than three trout to fill Buster Bear\\'s stomach,\\r\\nso he kept on to the next little pool.\\r\\n\\r\\nBut this little pool, instead of being beautiful and clear so that\\r\\nBuster could see right to the bottom of it and so tell if there were any\\r\\nfish there, was so muddy that he couldn\\'t see into it at all. It looked\\r\\nas if some one had just stirred up all the mud at the bottom.\\r\\n\\r\\n\"Huh!\" said Buster Bear. \"It\\'s of no use to try to fish here. I would\\r\\njust waste my time. I\\'ll try the next pool.\"\\r\\n\\r\\nSo he went on to the next little pool. He found this just as muddy as\\r\\nthe other. Then he went on to another, and this was no better. Buster\\r\\nsat down and scratched his head. It was puzzling. Yes, Sir, it was\\r\\npuzzling. He looked this way and he looked that way suspiciously, but\\r\\nthere was no one to be seen. Everything was still save for the laughter\\r\\nof the Laughing Brook. Somehow, it seemed to Buster as if the Brook were\\r\\nlaughing at him.\\r\\n\\r\\n\"It\\'s very curious,\" muttered Buster, \"very curious indeed. It looks as\\r\\nif my fishing is spoiled for to-day. I don\\'t understand it at all. It\\'s\\r\\nlucky I caught what I did. It looks as if somebody is trying to--ha!\" A\\r\\nsudden thought had popped into his head. Then he began to chuckle and\\r\\nfinally to laugh. \"I do believe that scamp Joe Otter is trying to get\\r\\neven with me for eating that fat trout!\"\\r\\n\\r\\nAnd then, because Buster Bear always enjoys a good joke even when it is\\r\\non himself, he laughed until he had to hold his sides, which is a whole\\r\\nlot better than going off in a rage as Little Joe Otter had done.\\r\\n\"You\\'re pretty smart, Mr. Otter! You\\'re pretty smart, but there are\\r\\nother people who are smart too,\" said Buster Bear, and still chuckling,\\r\\nhe went off to think up a plan to get the best of Little Joe Otter.\\r\\n\\r\\n\\r\\n\\r\\n\\r\\nIV\\r\\n\\r\\nLITTLE JOE OTTER SUPPLIES BUSTER BEAR WITH A BREAKFAST\\r\\n\\r\\n\\r\\n  Getting even just for spite\\r\\n    Doesn\\'t always pay.\\r\\n  Fact is, it is very apt\\r\\n    To work the other way.\\r\\n\\r\\nThat is just how it came about that Little Joe Otter furnished Buster\\r\\nBear with the best breakfast he had had for a long time. He didn\\'t mean\\r\\nto do it. Oh, my, no! The truth is, he thought all the time that he was\\r\\npreventing Buster Bear from getting a breakfast. You see he wasn\\'t well\\r\\nenough acquainted with Buster to know that Buster is quite as smart as\\r\\nhe is, and perhaps a little bit smarter. Spite and selfishness were at\\r\\nthe bottom of it. You see Little Joe and Billy Mink had had all the\\r\\nfishing in the Laughing Brook to themselves so long that they thought no\\r\\none else had any right to fish there. To be sure Bobby Coon caught a few\\r\\nlittle fish there, but they didn\\'t mind Bobby. Farmer Brown\\'s boy fished\\r\\nthere too, sometimes, and this always made Little Joe and Billy Mink\\r\\nvery angry, but they were so afraid of him that they didn\\'t dare do\\r\\nanything about it. But when they discovered that Buster Bear was a\\r\\nfisherman, they made up their minds that something had got to be done.\\r\\nAt least, Little Joe did.\\r\\n\\r\\n\"He\\'ll try it again to-morrow morning,\" said Little Joe. \"I\\'ll keep\\r\\nwatch, and as soon as I see him coming, I\\'ll drive out all the fish,\\r\\njust as I did to-day. I guess that\\'ll teach him to let our fish alone.\"\\r\\n\\r\\nSo the next morning Little Joe hid before daylight close by the little\\r\\npool where Buster Bear had given him such a fright. Sure enough, just as\\r\\nthe Jolly Sunbeams began to creep through the Green Forest, he saw\\r\\nBuster Bear coming straight over to the little pool. Little Joe slipped\\r\\ninto the water and chased all the fish out of the little pool, and\\r\\nstirred up the mud on the bottom so that the water was so muddy that the\\r\\nbottom couldn\\'t be seen at all. Then he hurried down to the next little\\r\\npool and did the same thing.\\r\\n\\r\\nNow Buster Bear is very smart. You know he had guessed the day before\\r\\nwho had spoiled his fishing. So this morning he only went far enough to\\r\\nmake sure that if Little Joe were watching for him, as he was sure he\\r\\nwould be, he would see him coming. Then, instead of keeping on to the\\r\\nlittle pool, he hurried to a place way down the Laughing Brook, where\\r\\nthe water was very shallow, hardly over his feet, and there he sat\\r\\nchuckling to himself. Things happened just as he had expected. The\\r\\nfrightened fish Little Joe chased out of the little pools up above swam\\r\\ndown the Laughing Brook, because, you know, Little Joe was behind them,\\r\\nand there was nowhere else for them to go. When they came to the place\\r\\nwhere Buster was waiting, all he had to do was to scoop them out on to\\r\\nthe bank. It was great fun. It didn\\'t take Buster long to catch all the\\r\\nfish he could eat. Then he saved a nice fat trout and waited.\\r\\n\\r\\nBy and by along came Little Joe Otter, chuckling to think how he had\\r\\nspoiled Buster Bear\\'s fishing. He was so intent on looking behind him to\\r\\nsee if Buster was coming that he didn\\'t see Buster waiting there until\\r\\nhe spoke.\\r\\n\\r\\n\"I\\'m much obliged for the fine breakfast you have given me,\" said Buster\\r\\nin his deepest, most grumbly-rumbly voice. \"I\\'ve saved a fat trout for\\r\\nyou to make up for the one I ate yesterday. I hope we\\'ll go fishing\\r\\ntogether often.\"\\r\\n\\r\\nThen he went off laughing fit to kill himself. Little Joe couldn\\'t find\\r\\na word to say. He was so surprised and angry that he went off by himself\\r\\nand sulked. And Billy Mink, who had been watching, ate the fat trout.\\r\\n\\r\\n\\r\\n\\r\\n\\r\\nV\\r\\n\\r\\nGRANDFATHER FROG\\'S COMMON-SENSE\\r\\n\\r\\n\\r\\nThere is nothing quite like common sense to smooth out troubles. People\\r\\nwho have plenty of just plain common sense are often thought to be very\\r\\nwise. Their neighbors look up to them and are forever running to them\\r\\nfor advice, and they are very much respected. That is the way with\\r\\nGrandfather Frog. He is very old and very wise. Anyway, that is what his\\r\\nneighbors think. The truth is, he simply has a lot of common sense,\\r\\nwhich after all is the very best kind of wisdom.\\r\\n\\r\\nNow when Little Joe Otter found that Buster Bear had been too smart for\\r\\nhim and that instead of spoiling Buster\\'s fishing in the Laughing Brook\\r\\nhe had really made it easier for Buster to catch all the fish he wanted,\\r\\nLittle Joe went off down to the Smiling Pool in a great rage.\\r\\n\\r\\nBilly Mink stopped long enough to eat the fat fish Buster had left on\\r\\nthe bank and then he too went down to the Smiling Pool.\\r\\n\\r\\nWhen Little Joe Otter and Billy Mink reached the Smiling Pool, they\\r\\nclimbed up on the Big Rock, and there Little Joe sulked and sulked,\\r\\nuntil finally Grandfather Frog asked what the matter was. Little Joe\\r\\nwouldn\\'t tell, but Billy Mink told the whole story. When he told how\\r\\nBuster had been too smart for Little Joe, it tickled him so that Billy\\r\\nhad to laugh in spite of himself. So did Grandfather Frog. So did Jerry\\r\\nMuskrat, who had been listening. Of course this made Little Joe angrier\\r\\nthan ever. He said a lot of unkind things about Buster Bear and about\\r\\nBilly Mink and Grandfather Frog and Jerry Muskrat, because they had\\r\\nlaughed at the smartness of Buster.\\r\\n\\r\\n\"He\\'s nothing but a great big bully and thief!\" declared Little Joe.\\r\\n\\r\\n\"Chug-a-rum! He may be a bully, because great big people are very apt to\\r\\nbe bullies, and though I haven\\'t seen him, I guess Buster Bear is big\\r\\nenough from all I have heard, but I don\\'t see how he is a thief,\" said\\r\\nGrandfather Frog.\\r\\n\\r\\n\"Didn\\'t he catch my fish and eat them?\" snapped Little Joe. \"Doesn\\'t\\r\\nthat make him a thief?\"\\r\\n\\r\\n\"They were no more your fish than mine,\" protested Billy Mink.\\r\\n\\r\\n\"Well, _our_ fish, then! He stole _our_ fish, if you like that any\\r\\nbetter. That makes him just as much a thief, doesn\\'t it?\" growled\\r\\nLittle Joe.\\r\\n\\r\\nGrandfather Frog looked up at jolly, round, bright Mr. Sun and slowly\\r\\nwinked one of his great, goggly eyes. \"There comes a foolish green fly,\"\\r\\nsaid he. \"Who does he belong to?\"\\r\\n\\r\\n\"Nobody!\" snapped Little Joe. \"What have foolish green flies got to do\\r\\nwith my--I mean _our_ fish?\"\\r\\n\\r\\n\"Nothing, nothing at all,\" replied Grandfather Frog mildly. \"I was just\\r\\nhoping that he would come near enough for me to snap him up; then he\\r\\nwould belong to me. As long as he doesn\\'t, he doesn\\'t belong to any one.\\r\\nI suppose that if Buster Bear should happen along and catch him, he\\r\\nwould be stealing from me, according to Little Joe.\"\\r\\n\\r\\n\"Of course not! What a silly idea! You\\'re getting foolish in your old\\r\\nage,\" retorted Little Joe.\\r\\n\\r\\n\"Can you tell me the difference between the fish that you haven\\'t caught\\r\\nand the foolish green flies that I haven\\'t caught?\" asked Grandfather\\r\\nFrog.\\r\\n\\r\\nLittle Joe couldn\\'t find a word to say.\\r\\n\\r\\n\"You take my advice, Little Joe Otter,\" continued Grandfather Frog, \"and\\r\\nalways make friends with those who are bigger and stronger and smarter\\r\\nthan you are. You\\'ll find it pays.\"\\r\\n\\r\\n[Illustration: \"You take my advice, Little Joe Otter,\" continued\\r\\nGrandfather Frog. _Page 26._]\\r\\n\\r\\n\\r\\n\\r\\n\\r\\nVI\\r\\n\\r\\nLITTLE JOE OTTER TAKES GRANDFATHER FROG\\'S ADVICE\\r\\n\\r\\n\\r\\n  Who makes an enemy a friend,\\r\\n  To fear and worry puts an end.\\r\\n\\r\\nLittle Joe Otter found that out when he took Grandfather Frog\\'s advice.\\r\\nHe wouldn\\'t have admitted that he was afraid of Buster Bear. No one ever\\r\\nlikes to admit being afraid, least of all Little Joe Otter. And really\\r\\nLittle Joe has a great deal of courage. Very few of the little people of\\r\\nthe Green Forest or the Green Meadows would willingly quarrel with him,\\r\\nfor Little Joe is a great fighter when he has to fight. As for all those\\r\\nwho live in or along the Laughing Brook or in the Smiling Pool, they\\r\\nlet Little Joe have his own way in everything.\\r\\n\\r\\nNow having one\\'s own way too much is a bad thing. It is apt to make one\\r\\nselfish and thoughtless of other people and very hard to get along with.\\r\\nLittle Joe Otter had his way too much. Grandfather Frog knew it and\\r\\nshook his head very soberly when Little Joe had been disrespectful to\\r\\nhim.\\r\\n\\r\\n\"Too bad. Too bad! Too bad! Chug-a-rum! It is too bad that such a fine\\r\\nyoung fellow as Little Joe should spoil a good disposition by such\\r\\nselfish heedlessness. Too bad,\" said he.\\r\\n\\r\\nSo, though he didn\\'t let on that it was so, Grandfather Frog really was\\r\\ndelighted when he heard how Buster Bear had been too smart for Little\\r\\nJoe Otter. It tickled him so that he had hard work to keep a straight\\r\\nface. But he did and was as grave and solemn as you please as he\\r\\nadvised Little Joe always to make friends with any one who was bigger\\r\\nand stronger and smarter than he. That was good common sense advice, but\\r\\nLittle Joe just sniffed and went off declaring that he would get even\\r\\nwith Buster Bear yet. Now Little Joe is good-natured and full of fun as\\r\\na rule, and after he had reached home and his temper had cooled off a\\r\\nlittle, he began to see the joke on himself,--how when he had worked so\\r\\nhard to frighten the fish in the little pools of the Laughing Brook so\\r\\nthat Buster Bear should not catch any, he had all the time been driving\\r\\nthem right into Buster\\'s paws. By and by he grinned. It was a little\\r\\nsheepish grin at first, but at last it grew into a laugh.\\r\\n\\r\\n\"I believe,\" said Little Joe as he wiped tears of laughter from his\\r\\neyes, \"that Grandfather Frog is right, and that the best thing I can do\\r\\nis to make friends with Buster Bear. I\\'ll try it to-morrow morning.\"\\r\\n\\r\\nSo very early the next morning Little Joe Otter went to the best fishing\\r\\npool he knew of in the Laughing Brook, and there he caught the biggest\\r\\ntrout he could find. It was so big and fat that it made Little Joe\\'s\\r\\nmouth water, for you know fat trout are his favorite food. But he didn\\'t\\r\\ntake so much as one bite. Instead he carefully laid it on an old log\\r\\nwhere Buster Bear would be sure to see it if he should come along that\\r\\nway. Then he hid near by, where he could watch. Buster was late that\\r\\nmorning. It seemed to Little Joe that he never would come. Once he\\r\\nnearly lost the fish. He had turned his head for just a minute, and when\\r\\nhe looked back again, the trout was nowhere to be seen. Buster couldn\\'t\\r\\nhave stolen up and taken it, because such a big fellow couldn\\'t possibly\\r\\nhave gotten out of sight again.\\r\\n\\r\\nLittle Joe darted over to the log and looked on the other side. There\\r\\nwas the fat trout, and there also was Little Joe\\'s smallest cousin,\\r\\nShadow the Weasel, who is a great thief and altogether bad. Little Joe\\r\\nsprang at him angrily, but Shadow was too quick and darted away. Little\\r\\nJoe put the fish back on the log and waited. This time he didn\\'t take\\r\\nhis eyes off it. At last, when he was almost ready to give up, he saw\\r\\nBuster Bear shuffling along towards the Laughing Brook. Suddenly Buster\\r\\nstopped and sniffed. One of the Merry Little Breezes had carried the\\r\\nscent of that fat trout over to him. Then he came straight over to where\\r\\nthe fish lay, his nose wrinkling, and his eyes twinkling with pleasure.\\r\\n\\r\\n\"Now I wonder who was so thoughtful as to leave this fine breakfast\\r\\nready for me,\" said he out loud.\\r\\n\\r\\n\"Me,\" said Little Joe in a rather faint voice. \"I caught it especially\\r\\nfor you.\"\\r\\n\\r\\n\"Thank you,\" replied Buster, and his eyes twinkled more than ever. \"I\\r\\nthink we are going to be friends.\"\\r\\n\\r\\n\"I--I hope so,\" replied Little Joe.\\r\\n\\r\\n\\r\\n\\r\\n\\r\\nVII\\r\\n\\r\\nFARMER BROWN\\'S BOY HAS NO LUCK AT ALL\\r\\n\\r\\n\\r\\nFarmer Brown\\'s boy tramped through the Green Forest, whistling merrily.\\r\\nHe always whistles when he feels light-hearted, and he always feels\\r\\nlight-hearted when he goes fishing. You see, he is just as fond of\\r\\nfishing as is Little Joe Otter or Billy Mink or Buster Bear. And now he\\r\\nwas making his way through the Green Forest to the Laughing Brook, sure\\r\\nthat by the time he had followed it down to the Smiling Pool he would\\r\\nhave a fine lot of trout to take home. He knew every pool in the\\r\\nLaughing Brook where the trout love to hide, did Farmer Brown\\'s boy,\\r\\nand it was just the kind of a morning when the trout should be hungry.\\r\\nSo he whistled as he tramped along, and his whistle was good to hear.\\r\\n\\r\\nWhen he reached the first little pool he baited his hook very carefully\\r\\nand then, taking the greatest care to keep out of sight of any trout\\r\\nthat might be in the little pool, he began to fish. Now Farmer Brown\\'s\\r\\nboy learned a long time ago that to be a successful fisherman one must\\r\\nhave a great deal of patience, so though he didn\\'t get a bite right away\\r\\nas he had expected to, he wasn\\'t the least bit discouraged. He kept very\\r\\nquiet and fished and fished, patiently waiting for a foolish trout to\\r\\ntake his hook. But he didn\\'t get so much as a nibble. \"Either the trout\\r\\nhave lost their appetite or they have grown very wise,\" muttered Farmer\\r\\nBrown\\'s boy, as after a long time he moved on to the next little pool.\\r\\n\\r\\nThere the same thing happened. He was very patient, very, very patient,\\r\\nbut his patience brought no reward, not so much as the faintest kind of\\r\\na nibble. Farmer Brown\\'s boy trudged on to the next pool, and there was\\r\\na puzzled frown on his freckled face. Such a thing never had happened\\r\\nbefore. He didn\\'t know what to make of it. All the night before he had\\r\\ndreamed about the delicious dinner of fried trout he would have the next\\r\\nday, and now--well, if he didn\\'t catch some trout pretty soon, that\\r\\nsplendid dinner would never be anything but a dream.\\r\\n\\r\\n\"If I didn\\'t know that nobody else comes fishing here, I should think\\r\\nthat somebody had been here this very morning and caught all the fish or\\r\\nelse frightened them so that they are all in hiding,\" said he, as he\\r\\ntrudged on to the next little pool. \"I never had such bad luck in all my\\r\\nlife before. Hello! What\\'s this?\"\\r\\n\\r\\nThere, on the bank beside the little pool, were the heads of three\\r\\ntrout. Farmer Brown\\'s boy scowled down at them more puzzled than ever.\\r\\n\"Somebody _has_ been fishing here, and they have had better luck than I\\r\\nhave,\" thought he. He looked up the Laughing Brook and down the Laughing\\r\\nBrook and this way and that way, but no one was to be seen. Then he\\r\\npicked up one of the little heads and looked at it sharply. \"It wasn\\'t\\r\\ncut off with a knife; it was bitten off!\" he exclaimed. \"I wonder now if\\r\\nBilly Mink is the scamp who has spoiled my fun.\"\\r\\n\\r\\nThereafter he kept a sharp lookout for signs of Billy Mink, but though\\r\\nhe found two or three more trout heads, he saw no other signs and he\\r\\ncaught no fish. This puzzled him more than ever. It didn\\'t seem possible\\r\\nthat such a little fellow as Billy Mink could have caught or frightened\\r\\nall the fish or have eaten so many. Besides, he didn\\'t remember ever\\r\\nhaving known Billy to leave heads around that way. Billy sometimes\\r\\ncatches more fish than he can eat, but then he usually hides them. The\\r\\nfarther he went down the Laughing Brook, the more puzzled Farmer Brown\\'s\\r\\nboy grew. It made him feel very queer. He would have felt still more\\r\\nqueer if he had known that all the time two other fishermen who had been\\r\\nbefore him were watching him and chuckling to themselves. They were\\r\\nLittle Joe Otter and Buster Bear.\\r\\n\\r\\n\\r\\n\\r\\n\\r\\nVIII\\r\\n\\r\\nFARMER BROWN\\'S BOY FEELS HIS HAIR RISE\\r\\n\\r\\n\\r\\n  \\'Twas just a sudden odd surprise\\r\\n  Made Farmer Brown\\'s boy\\'s hair to rise.\\r\\n\\r\\nThat\\'s a funny thing for hair to do--rise up all of a sudden--isn\\'t it?\\r\\nBut that is just what the hair on Farmer Brown\\'s boy\\'s head did the day\\r\\nhe went fishing in the Laughing Brook and had no luck at all. There are\\r\\njust two things that make hair rise--anger and fear. Anger sometimes\\r\\nmakes the hair on the back and neck of Bowser the Hound and of some\\r\\nother little people bristle and stand up, and you know the hair on the\\r\\ntail of Black Pussy stands on end until her tail looks twice as big as\\r\\nit really is. Both anger and fear make it do that. But there is only one\\r\\nthing that can make the hair on the head of Farmer Brown\\'s boy rise, and\\r\\nas it isn\\'t anger, of course it must be fear.\\r\\n\\r\\nIt never had happened before. You see, there isn\\'t much of anything that\\r\\nFarmer Brown\\'s boy is really afraid of. Perhaps he wouldn\\'t have been\\r\\nafraid this time if it hadn\\'t been for the surprise of what he found.\\r\\nYou see when he had found the heads of those trout on the bank he knew\\r\\nright away that some one else had been fishing, and that was why he\\r\\ncouldn\\'t catch any; but it didn\\'t seem possible that little Billy Mink\\r\\ncould have eaten all those trout, and Farmer Brown\\'s boy didn\\'t once\\r\\nthink of Little Joe Otter, and so he was very, very much puzzled.\\r\\n\\r\\nHe was turning it all over in his mind and studying what it could mean,\\r\\nwhen he came to a little muddy place on the bank of the Laughing Brook,\\r\\nand there he saw something that made his eyes look as if they would pop\\r\\nright out of his head, and it was right then that he felt his hair rise.\\r\\nAnyway, that is what he said when he told about it afterward. What was\\r\\nit he saw? What do you think? Why, it was a footprint in the soft mud.\\r\\nYes, Sir, that\\'s what it was, and all it was. But it was the biggest\\r\\nfootprint Farmer Brown\\'s boy ever had seen, and it looked as if it had\\r\\nbeen made only a few minutes before. It was the footprint of Buster\\r\\nBear.\\r\\n\\r\\nNow Farmer Brown\\'s boy didn\\'t know that Buster Bear had come down to the\\r\\nGreen Forest to live. He never had heard of a Bear being in the Green\\r\\nForest. And so he was so surprised that he had hard work to believe his\\r\\nown eyes, and he had a queer feeling all over,--a little chilly feeling,\\r\\nalthough it was a warm day. Somehow, he didn\\'t feel like meeting Buster\\r\\nBear. If he had had his terrible gun with him, it might have been\\r\\ndifferent. But he didn\\'t, and so he suddenly made up his mind that he\\r\\ndidn\\'t want to fish any more that day. He had a funny feeling, too, that\\r\\nhe was being watched, although he couldn\\'t see any one. He _was_ being\\r\\nwatched. Little Joe Otter and Buster Bear were watching him and taking\\r\\nthe greatest care to keep out of his sight.\\r\\n\\r\\nAll the way home through the Green Forest, Farmer Brown\\'s boy kept\\r\\nlooking behind him, and he didn\\'t draw a long breath until he reached\\r\\nthe edge of the Green Forest. He hadn\\'t run, but he had wanted to.\\r\\n\\r\\n\"Huh!\" said Buster Bear to Little Joe Otter, \"I believe he was afraid!\"\\r\\n\\r\\nAnd Buster Bear was just exactly right.\\r\\n\\r\\n\\r\\n\\r\\n\\r\\nIX\\r\\n\\r\\nLITTLE JOE OTTER HAS GREAT NEWS TO TELL\\r\\n\\r\\n\\r\\nLittle Joe Otter was fairly bursting with excitement. He could hardly\\r\\ncontain himself. He felt that he had the greatest news to tell since\\r\\nPeter Rabbit had first found the tracks of Buster Bear in the Green\\r\\nForest. He couldn\\'t keep it to himself a minute longer than he had to.\\r\\nSo he hurried to the Smiling Pool, where he was sure he would find Billy\\r\\nMink and Jerry Muskrat and Grandfather Frog and Spotty the Turtle, and\\r\\nhe hoped that perhaps some of the little people who live in the Green\\r\\nForest might be there too. Sure enough, Peter Rabbit was there on one\\r\\nside of the Smiling Pool, making faces at Reddy Fox, who was on the\\r\\nother side, which, of course, was not at all nice of Peter. Mr. and Mrs.\\r\\nRedwing were there, and Blacky the Crow was sitting in the Big\\r\\nHickory-tree.\\r\\n\\r\\nLittle Joe Otter swam straight to the Big Rock and climbed up to the\\r\\nvery highest part. He looked so excited, and his eyes sparkled so, that\\r\\nevery one knew right away that something had happened.\\r\\n\\r\\n\"Hi!\" cried Billy Mink. \"Look at Little Joe Otter! It must be that for\\r\\nonce he has been smarter than Buster Bear.\"\\r\\n\\r\\nLittle Joe made a good-natured face at Billy Mink and shook his head.\\r\\n\"No, Billy,\" said he, \"you are wrong, altogether wrong. I don\\'t believe\\r\\nanybody can be smarter than Buster Bear.\"\\r\\n\\r\\n[Illustration: Reddy glared across the Smiling Pool at Peter.\\r\\n_Page 45._]\\r\\n\\r\\nReddy Fox rolled his lips back in an unpleasant grin. \"Don\\'t be too\\r\\nsure of that!\" he snapped. \"I\\'m not through with him yet.\"\\r\\n\\r\\n\"Boaster! Boaster!\" cried Peter Rabbit.\\r\\n\\r\\nReddy glared across the Smiling Pool at Peter. \"I\\'m not through with you\\r\\neither, Peter Rabbit!\" he snarled. \"You\\'ll find it out one of these fine\\r\\ndays!\"\\r\\n\\r\\n  \"Reddy, Reddy, smart and sly,\\r\\n  Couldn\\'t catch a buzzing fly!\"\\r\\n\\r\\ntaunted Peter.\\r\\n\\r\\n\"Chug-a-rum!\" said Grandfather Frog in his deepest, gruffest voice. \"We\\r\\nknow all about that. What we want to know is what Little Joe Otter has\\r\\ngot on his mind.\"\\r\\n\\r\\n\"It\\'s news--great news!\" cried Little Joe.\\r\\n\\r\\n\"We can tell better how great it is when we hear what it is,\" replied\\r\\nGrandfather Frog testily. \"What is it?\"\\r\\n\\r\\nLittle Joe Otter looked around at all the eager faces watching him, and\\r\\nthen in the slowest, most provoking way, he drawled: \"Farmer Brown\\'s boy\\r\\nis afraid of Buster Bear.\"\\r\\n\\r\\nFor a minute no one said a word. Then Blacky the Crow leaned down from\\r\\nhis perch in the Big Hickory-tree and looked very hard at Little Joe as\\r\\nhe said:\\r\\n\\r\\n\"I don\\'t believe it. I don\\'t believe a word of it. Farmer Brown\\'s boy\\r\\nisn\\'t afraid of any one who lives in the Green Forest or on the Green\\r\\nMeadows or in the Smiling Pool, and you know it. We are all afraid of\\r\\nhim.\"\\r\\n\\r\\nLittle Joe glared back at Blacky. \"I don\\'t care whether you believe it\\r\\nor not; it\\'s true,\" he retorted. Then he told how early that very\\r\\nmorning he and Buster Bear had been fishing together in the Laughing\\r\\nBrook, and how Farmer Brown\\'s boy had been fishing there too, and hadn\\'t\\r\\ncaught a single trout because they had all been caught or frightened\\r\\nbefore he got there. Then he told how Farmer Brown\\'s boy had found a\\r\\nfootprint of Buster Bear in the soft mud, and how he had stopped fishing\\r\\nright away and started for home, looking behind him with fear in his\\r\\neyes all the way.\\r\\n\\r\\n\"Now tell me that he isn\\'t afraid!\" concluded Little Joe. \"For once he\\r\\nknows just how we feel when he comes prowling around where we are. Isn\\'t\\r\\nthat great news? Now we\\'ll get even with _him_!\"\\r\\n\\r\\n\"I\\'ll believe it when I see it for myself!\" snapped Blacky the Crow.\\r\\n\\r\\n\\r\\n\\r\\n\\r\\nX\\r\\n\\r\\nBUSTER BEAR BECOMES A HERO\\r\\n\\r\\n\\r\\nThe news that Little Joe Otter told at the Smiling Pool,--how Farmer\\r\\nBrown\\'s boy had run away from Buster Bear without even seeing him,--soon\\r\\nspread all over the Green Meadows and through the Green Forest, until\\r\\nevery one who lives there knew about it. Of course, Peter Rabbit helped\\r\\nspread it. Trust Peter for that! But everybody else helped too. You see,\\r\\nthey had all been afraid of Farmer Brown\\'s boy for so long that they\\r\\nwere tickled almost to pieces at the very thought of having some one in\\r\\nthe Green Forest who could make Farmer Brown\\'s boy feel fear as they\\r\\nhad felt it. And so it was that Buster Bear became a hero right away to\\r\\nmost of them.\\r\\n\\r\\nA few doubted Little Joe\\'s story. One of them was Blacky the Crow.\\r\\nAnother was Reddy Fox. Blacky doubted because he knew Farmer Brown\\'s boy\\r\\nso well that he couldn\\'t imagine him afraid. Reddy doubted because he\\r\\ndidn\\'t want to believe. You see, he was jealous of Buster Bear, and at\\r\\nthe same time he was afraid of him. So Reddy pretended not to believe a\\r\\nword of what Little Joe Otter had said, and he agreed with Blacky that\\r\\nonly by seeing Farmer Brown\\'s boy afraid could he ever be made to\\r\\nbelieve it. But nearly everybody else believed it, and there was great\\r\\nrejoicing. Most of them were afraid of Buster, very much afraid of him,\\r\\nbecause he was so big and strong. But they were still more afraid of\\r\\nFarmer Brown\\'s boy, because they didn\\'t know him or understand him, and\\r\\nbecause in the past he had tried to catch some of them in traps and had\\r\\nhunted some of them with his terrible gun.\\r\\n\\r\\nSo now they were very proud to think that one of their own number\\r\\nactually had frightened him, and they began to look on Buster Bear as a\\r\\nreal hero. They tried in ever so many ways to show him how friendly they\\r\\nfelt and went quite out of their way to do him favors. Whenever they met\\r\\none another, all they could talk about was the smartness and the\\r\\ngreatness of Buster Bear.\\r\\n\\r\\n\"Now I guess Farmer Brown\\'s boy will keep away from the Green Forest,\\r\\nand we won\\'t have to be all the time watching out for him,\" said Bobby\\r\\nCoon, as he washed his dinner in the Laughing Brook, for you know he is\\r\\nvery neat and particular.\\r\\n\\r\\n\"And he won\\'t dare set any more traps for me,\" gloated Billy Mink.\\r\\n\\r\\n\"Ah wish Brer Bear would go up to Farmer Brown\\'s henhouse and scare\\r\\nFarmer Brown\\'s boy so that he would keep away from there. It would be a\\r\\nfavor to me which Ah cert\\'nly would appreciate,\" said Unc\\' Billy Possum\\r\\nwhen he heard the news.\\r\\n\\r\\n\"Let\\'s all go together and tell Buster Bear how much obliged we are for\\r\\nwhat he has done,\" proposed Jerry Muskrat.\\r\\n\\r\\n\"That\\'s a splendid idea!\" cried Little Joe Otter. \"We\\'ll do it right\\r\\naway.\"\\r\\n\\r\\n\"Caw, caw caw!\" broke in Blacky the Crow. \"I say, let\\'s wait and see for\\r\\nourselves if it is all true.\"\\r\\n\\r\\n\"Of course it\\'s true!\" snapped Little Joe Otter. \"Don\\'t you believe I\\'m\\r\\ntelling the truth?\"\\r\\n\\r\\n\"Certainly, certainly. Of course no one doubts your word,\" replied\\r\\nBlacky, with the utmost politeness. \"But you say yourself that Farmer\\r\\nBrown\\'s boy didn\\'t see Buster Bear, but only his footprint. Perhaps he\\r\\ndidn\\'t know whose it was, and if he had he wouldn\\'t have been afraid.\\r\\nNow I\\'ve got a plan by which we can see for ourselves if he really is\\r\\nafraid of Buster Bear.\"\\r\\n\\r\\n\"What is it?\" asked Sammy Jay eagerly.\\r\\n\\r\\nBlacky the Crow shook his head and winked. \"That\\'s telling,\" said he. \"I\\r\\nwant to think it over. If you meet me at the Big Hickory-tree at sun-up\\r\\nto-morrow morning, and get everybody else to come that you can, perhaps\\r\\nI will tell you.\"\\r\\n\\r\\n\\r\\n\\r\\n\\r\\nXI\\r\\n\\r\\nBLACKY THE CROW TELLS HIS PLAN\\r\\n\\r\\n\\r\\n  Blacky is a dreamer!\\r\\n  Blacky is a schemer!\\r\\n    His voice is strong;\\r\\n    When things go wrong\\r\\n  Blacky is a screamer!\\r\\n\\r\\nIt\\'s a fact. Blacky the Crow is forever dreaming and scheming and almost\\r\\nalways it is of mischief. He is one of the smartest and cleverest of all\\r\\nthe little people of the Green Meadows and the Green Forest, and all the\\r\\nothers know it. Blacky likes excitement. He wants something going on.\\r\\nThe more exciting it is, the better he likes it. Then he has a chance to\\r\\nuse that harsh voice of his, and how he does use it!\\r\\n\\r\\nSo now, as he sat in the top of the Big Hickory-tree beside the Smiling\\r\\nPool and looked down on all the little people gathered there, he was\\r\\nvery happy. In the first place he felt very important, and you know\\r\\nBlacky dearly loves to feel important. They had all come at his\\r\\ninvitation to listen to a plan for seeing for themselves if it were\\r\\nreally true that Farmer Brown\\'s boy was afraid of Buster Bear.\\r\\n\\r\\nOn the Big Rock in the Smiling Pool sat Little Joe Otter, Billy Mink,\\r\\nand Jerry Muskrat. On his big, green lily-pad sat Grandfather Frog. On\\r\\nanother lily-pad sat Spotty the Turtle. On the bank on one side of the\\r\\nSmiling Pool were Peter Rabbit, Jumper the Hare, Danny Meadow Mouse,\\r\\nJohnny Chuck, Jimmy Skunk, Unc\\' Billy Possum, Striped Chipmunk and Old\\r\\nMr. Toad. On the other side of the Smiling Pool were Reddy Fox, Digger\\r\\nthe Badger, and Bobby Coon. In the Big Hickory-tree were Chatterer the\\r\\nRed Squirrel, Happy Jack the Gray Squirrel, and Sammy Jay.\\r\\n\\r\\nBlacky waited until he was sure that no one else was coming. Then he\\r\\ncleared his throat very loudly and began to speak. \"Friends,\" said he.\\r\\n\\r\\nEverybody grinned, for Blacky has played so many sharp tricks that no\\r\\none is really his friend unless it is that other mischief-maker, Sammy\\r\\nJay, who, you know, is Blacky\\'s cousin. But no one said anything, and\\r\\nBlacky went on.\\r\\n\\r\\n\"Little Joe Otter has told us how he saw Farmer Brown\\'s boy hurry home\\r\\nwhen he found the footprint of Buster Bear on the edge of the Laughing\\r\\nBrook, and how all the way he kept looking behind him, as if he were\\r\\nafraid. Perhaps he was, and then again perhaps he wasn\\'t. Perhaps he had\\r\\nsomething else on his mind. You have made a hero of Buster Bear, because\\r\\nyou believe Little Joe\\'s story. Now I don\\'t say that I don\\'t believe it,\\r\\nbut I do say that I will be a lot more sure that Farmer Brown\\'s boy is\\r\\nafraid of Buster when I see him run away myself. Now here is my plan:\\r\\n\\r\\n\"To-morrow morning, very early, Sammy Jay and I will make a great fuss\\r\\nnear the edge of the Green Forest. Farmer Brown\\'s boy has a lot of\\r\\ncuriosity, and he will be sure to come over to see what it is all about.\\r\\nThen we will lead him to where Buster Bear is. If he runs away, I will\\r\\nbe the first to admit that Buster Bear is as great a hero as some of you\\r\\nseem to think he is. It is a very simple plan, and if you will all hide\\r\\nwhere you can watch, you will be able to see for yourselves if Little\\r\\nJoe Otter is right. Now what do you say?\"\\r\\n\\r\\nRight away everybody began to talk at the same time. It was such a\\r\\nsimple plan that everybody agreed to it. And it promised to be so\\r\\nexciting that everybody promised to be there, that is, everybody but\\r\\nGrandfather Frog and Spotty the Turtle, who didn\\'t care to go so far\\r\\naway from the Smiling Pool. So it was agreed that Blacky should try his\\r\\nplan the very next morning.\\r\\n\\r\\n\\r\\n\\r\\n\\r\\nXII\\r\\n\\r\\nFARMER BROWN\\'S BOY AND BUSTER BEAR GROW CURIOUS\\r\\n\\r\\n\\r\\nEver since it was light enough to see at all, Blacky the Crow had been\\r\\nsitting in the top of the tallest tree on the edge of the Green Forest\\r\\nnearest to Farmer Brown\\'s house, and never for an instant had he taken\\r\\nhis eyes from Farmer Brown\\'s back door. What was he watching for? Why,\\r\\nfor Farmer Brown\\'s boy to come out on his way to milk the cows.\\r\\nMeanwhile, Sammy Jay was slipping silently through the Green Forest,\\r\\nlooking for Buster Bear, so that when the time came he could let his\\r\\ncousin, Blacky the Crow, know just where Buster was.\\r\\n\\r\\nBy and by the back door of Farmer Brown\\'s house opened, and out stepped\\r\\nFarmer Brown\\'s boy. In each hand he carried a milk pail. Right away\\r\\nBlacky began to scream at the top of his lungs. \"Caw, caw, caw!\" shouted\\r\\nBlacky. \"Caw, caw, caw!\" And all the time he flew about among the trees\\r\\nnear the edge of the Green Forest as if so excited that he couldn\\'t keep\\r\\nstill. Farmer Brown\\'s boy looked over there as if he wondered what all\\r\\nthat fuss was about, as indeed he did, but he didn\\'t start to go over\\r\\nand see. No, Sir, he started straight for the barn.\\r\\n\\r\\nBlacky didn\\'t know what to make of it. You see, smart as he is and\\r\\nshrewd as he is, Blacky doesn\\'t know anything about the meaning of duty,\\r\\nfor he never has to work excepting to get enough to eat. So, when Farmer\\r\\nBrown\\'s boy started for the barn instead of for the Green Forest,\\r\\nBlacky didn\\'t know what to make of it. He screamed harder and louder\\r\\nthan ever, until his voice grew so hoarse he couldn\\'t scream any more,\\r\\nbut Farmer Brown\\'s boy kept right on to the barn.\\r\\n\\r\\n\"I\\'d like to know what you\\'re making such a fuss about, Mr. Crow, but\\r\\nI\\'ve got to feed the cows and milk them first,\" said he.\\r\\n\\r\\nNow all this time the other little people of the Green Forest and the\\r\\nGreen Meadows had been hiding where they could see all that went on.\\r\\nWhen Farmer Brown\\'s boy disappeared in the barn, Chatterer the Red\\r\\nSquirrel snickered right out loud. \"Ha, ha, ha! This is a great plan of\\r\\nyours, Blacky! Ha, ha, ha!\" he shouted. Blacky couldn\\'t find a word to\\r\\nsay. He just hung his head, which is something Blacky seldom does.\\r\\n\\r\\n\"Perhaps if we wait until he comes out again, he will come over here,\"\\r\\nsaid Sammy Jay, who had joined Blacky. So it was decided to wait. It\\r\\nseemed as if Farmer Brown\\'s boy never would come out, but at last he\\r\\ndid. Blacky and Sammy Jay at once began to scream and make all the fuss\\r\\nthey could. Farmer Brown\\'s boy took the two pails of milk into the\\r\\nhouse, then out he came and started straight for the Green Forest. He\\r\\nwas so curious to know what it all meant that he couldn\\'t wait another\\r\\nminute.\\r\\n\\r\\nNow there was some one else with a great deal of curiosity also. He had\\r\\nheard the screaming of Blacky the Crow and Sammy Jay, and he had\\r\\nlistened until he couldn\\'t stand it another minute. He just _had_ to\\r\\nknow what it was all about. So at the same time Farmer Brown\\'s boy\\r\\nstarted for the Green Forest, this other listener started towards the\\r\\nplace where Blacky and Sammy were making such a racket. He walked very\\r\\nsoftly so as not to make a sound. It was Buster Bear.\\r\\n\\r\\n\\r\\n\\r\\n\\r\\nXIII\\r\\n\\r\\nFARMER BROWN\\'S BOY AND BUSTER BEAR MEET\\r\\n\\r\\n\\r\\n  If you should meet with Buster Bear\\r\\n    While walking through the wood,\\r\\n  What would you do? Now tell me true,\\r\\n    _I\\'d_ run the best I could.\\r\\n\\r\\nThat is what Farmer Brown\\'s boy did when he met Buster Bear, and a lot\\r\\nof the little people of the Green Forest and some from the Green Meadows\\r\\nsaw him. When Farmer Brown\\'s boy came hurrying home from the Laughing\\r\\nBrook without any fish one day and told about the great footprint he had\\r\\nseen in a muddy place on the bank deep in the Green Forest, and had said\\r\\nhis was sure that it was the footprint of a Bear, he had been laughed\\r\\nat. Farmer Brown had laughed and laughed.\\r\\n\\r\\n\"Why,\" said he, \"there hasn\\'t been a Bear in the Green Forest for years\\r\\nand years and years, not since my own grandfather was a little boy, and\\r\\nthat, you know, was a long, long, long time ago. If you want to find Mr.\\r\\nBear, you will have to go to the Great Woods. I don\\'t know who made that\\r\\nfootprint, but it certainly couldn\\'t have been a Bear. I think you must\\r\\nhave imagined it.\"\\r\\n\\r\\nThen he had laughed some more, all of which goes to show how easy it is\\r\\nto be mistaken, and how foolish it is to laugh at things you really\\r\\ndon\\'t know about. Buster Bear _had_ come to live in the Green Forest,\\r\\nand Farmer Brown\\'s boy _had_ seen his footprint. But Farmer Brown\\r\\nlaughed so much and made fun of him so much, that at last his boy began\\r\\nto think that he must have been mistaken after all. So when he heard\\r\\nBlacky the Crow and Sammy Jay making a great fuss near the edge of the\\r\\nGreen Forest, he never once thought of Buster Bear, as he started over\\r\\nto see what was going on.\\r\\n\\r\\nWhen Blacky and Sammy saw him coming, they moved a little farther in to\\r\\nthe Green Forest, still screaming in the most excited way. They felt\\r\\nsure that Farmer Brown\\'s boy would follow them, and they meant to lead\\r\\nhim to where Sammy had seen Buster Bear that morning. Then they would\\r\\nfind out for sure if what Little Joe Otter had said was true,--that\\r\\nFarmer Brown\\'s boy really was afraid of Buster Bear.\\r\\n\\r\\nNow all around, behind trees and stumps, and under thick branches, and\\r\\neven in tree tops, were other little people watching with round,\\r\\nwide-open eyes to see what would happen. It was very exciting, the most\\r\\nexciting thing they could remember. You see, they had come to believe\\r\\nthat Farmer Brown\\'s boy wasn\\'t afraid of anybody or anything, and as\\r\\nmost of them were very much afraid of him, they had hard work to believe\\r\\nthat he would really be afraid of even such a great, big, strong fellow\\r\\nas Buster Bear. Every one was so busy watching Farmer Brown\\'s boy that\\r\\nno one saw Buster coming from the other direction.\\r\\n\\r\\nYou see, Buster walked very softly. Big as he is, he can walk without\\r\\nmaking the teeniest, weeniest sound. And that is how it happened that no\\r\\none saw him or heard him until just as Farmer Brown\\'s boy stepped out\\r\\nfrom behind one side of a thick little hemlock-tree, Buster Bear stepped\\r\\nout from behind the other side of that same little tree, and there they\\r\\nwere face to face! Then everybody held their breath, even Blacky the\\r\\nCrow and Sammy Jay. For just a little minute it was so still there in\\r\\nthe Green Forest that not the least little sound could be heard. What\\r\\nwas going to happen?\\r\\n\\r\\n\\r\\n\\r\\n\\r\\nXIV\\r\\n\\r\\nA SURPRISING THING HAPPENS\\r\\n\\r\\n\\r\\nBlacky the Crow and Sammy Jay, looking down from the top of a tall tree,\\r\\nheld their breath. Happy Jack the Gray Squirrel and his cousin,\\r\\nChatterer the Red Squirrel, looking down from another tree, held _their_\\r\\nbreath. Unc\\' Billy Possum, sticking his head out from a hollow tree,\\r\\nheld _his_ breath. Bobby Coon, looking through a hole in a hollow stump\\r\\nin which he was hiding, held _his_ breath. Reddy Fox, lying flat down\\r\\nbehind a heap of brush, held _his_ breath. Peter Rabbit, sitting bolt\\r\\nupright under a thick hemlock branch, with eyes and ears wide open, held\\r\\n_his_ breath. And all the other little people who happened to be where\\r\\nthey could see did the same thing.\\r\\n\\r\\nYou see, it was the most exciting moment ever was in the Green Forest.\\r\\nFarmer Brown\\'s boy had just stepped out from behind one side of a little\\r\\nhemlock-tree and Buster Bear had just stepped out from behind the\\r\\nopposite side of the little hemlock-tree and neither had known that the\\r\\nother was anywhere near. For a whole minute they stood there face to\\r\\nface, gazing into each other\\'s eyes, while everybody watched and waited,\\r\\nand it seemed as if the whole Green Forest was holding its breath.\\r\\n\\r\\nThen something happened. Yes, Sir, something happened. Farmer Brown\\'s\\r\\nboy opened his mouth and yelled! It was such a sudden yell and such a\\r\\nloud yell that it startled Chatterer so that he nearly fell from his\\r\\nplace in the tree, and it made Reddy Fox jump to his feet ready to run.\\r\\nAnd that yell was a yell of fright. There was no doubt about it, for\\r\\nwith the yell Farmer Brown\\'s boy turned and ran for home, as no one ever\\r\\nhad seen him run before. He ran just as Peter Rabbit runs when he has\\r\\ngot to reach the dear Old Briar-patch before Reddy Fox can catch him,\\r\\nwhich, you know, is as fast as he can run. Once he stumbled and fell,\\r\\nbut he scrambled to his feet in a twinkling, and away he went without\\r\\nonce turning his head to see if Buster Bear was after him. There wasn\\'t\\r\\nany doubt that he was afraid, very much afraid.\\r\\n\\r\\nEverybody leaned forward to watch him. \"What did I tell you? Didn\\'t I\\r\\nsay that he was afraid of Buster Bear?\" cried Little Joe Otter, dancing\\r\\nabout with excitement.\\r\\n\\r\\n\"You were right, Little Joe! I\\'m sorry that I doubted it. See him go!\\r\\nCaw, caw, caw!\" shrieked Blacky the Crow.\\r\\n\\r\\nFor a minute or two everybody forgot about Buster Bear. Then there was a\\r\\ngreat crash which made everybody turn to look the other way. What do you\\r\\nthink they saw? Why, Buster Bear was running away too, and he was\\r\\nrunning twice as fast as Farmer Brown\\'s boy! He bumped into trees and\\r\\ncrashed through bushes and jumped over logs, and in almost no time at\\r\\nall he was out of sight. Altogether it was the most surprising thing\\r\\nthat the little people of the Green Forest ever had seen.\\r\\n\\r\\n[Illustration: Buster Bear was running away, too. Page _71_.]\\r\\n\\r\\nSammy Jay looked at Blacky the Crow, and Blacky looked at Chatterer,\\r\\nand Chatterer looked at Happy Jack, and Happy Jack looked at Peter\\r\\nRabbit, and Peter looked at Unc\\' Billy Possum, and Unc\\' Billy looked at\\r\\nBobby Coon, and Bobby looked at Johnny Chuck, and Johnny looked at Reddy\\r\\nFox, and Reddy looked at Jimmy Skunk, and Jimmy looked at Billy Mink,\\r\\nand Billy looked at Little Joe Otter, and for a minute nobody could say\\r\\na word. Then Little Joe gave a funny little gasp.\\r\\n\\r\\n\"Why, why-e-e!\" said he, \"I believe Buster Bear is afraid too!\" Unc\\'\\r\\nBilly Possum chuckled. \"Ah believe yo\\' are right again, Brer Otter,\"\\r\\nsaid he. \"It cert\\'nly does look so. If Brer Bear isn\\'t scared, he must\\r\\nhave remembered something impo\\'tant and has gone to attend to it in a\\r\\npowerful hurry.\"\\r\\n\\r\\nThen everybody began to laugh.\\r\\n\\r\\n\\r\\n\\r\\n\\r\\nXV\\r\\n\\r\\nBUSTER BEAR IS A FALLEN HERO\\r\\n\\r\\n\\r\\nA fallen hero is some one to whom every one has looked up as very brave\\r\\nand then proves to be less brave than he was supposed to be. That was\\r\\nthe way with Buster Bear. When Little Joe Otter had told how Farmer\\r\\nBrown\\'s boy had been afraid at the mere sight of one of Buster Bear\\'s\\r\\nbig footprints, they had at once made a hero of Buster. At least some of\\r\\nthem had. As this was the first time, the very first time, that they had\\r\\never known any one who lives in the Green Forest to make Farmer Brown\\'s\\r\\nboy run away, they looked on Buster Bear with a great deal of respect\\r\\nand were very proud of him.\\r\\n\\r\\nBut now they had seen Buster Bear and Farmer Brown\\'s boy meet face to\\r\\nface; and while it was true that Farmer Brown\\'s boy had run away as fast\\r\\nas ever he could, it was also true that Buster Bear had done the same\\r\\nthing. He had run even faster than Farmer Brown\\'s boy, and had hidden in\\r\\nthe most lonely place he could find in the very deepest part of the\\r\\nGreen Forest. It was hard to believe, but it was true. And right away\\r\\neverybody lost a great deal of the respect for Buster which they had\\r\\nfelt. It is always that way. They began to say unkind things about him.\\r\\nThey said them among themselves, and some of them even said them to\\r\\nBuster when they met him, or said them so that he would hear them.\\r\\n\\r\\nOf course Blacky the Crow and Sammy Jay, who, because they can fly,\\r\\nhave nothing to fear from Buster, and who always delight in making other\\r\\npeople uncomfortable, never let a chance go by to tell Buster and\\r\\neverybody else within hearing what they thought of him. They delighted\\r\\nin flying about through the Green Forest until they had found Buster\\r\\nBear and then from the safety of the tree tops screaming at him.\\r\\n\\r\\n  \"Buster Bear is big and strong;\\r\\n  His teeth are big; his claws are long;\\r\\n  In spite of these he runs away\\r\\n  And hides himself the livelong day!\"\\r\\n\\r\\nA dozen times a day Buster would hear them screaming this. He would\\r\\ngrind his teeth and glare up at them, but that was all he could do. He\\r\\ncouldn\\'t get at them. He just had to stand it and do nothing. But when\\r\\nimpudent little Chatterer the Red Squirrel shouted the same thing from\\r\\na place just out of reach in a big pine-tree, Buster could stand it no\\r\\nlonger. He gave a deep, angry growl that made little shivers run over\\r\\nChatterer, and then suddenly he started up that tree after Chatterer.\\r\\nWith a frightened little shriek Chatterer scampered to the top of the\\r\\ntree. He hadn\\'t known that Buster could climb. But Buster is a splendid\\r\\nclimber, especially when the tree is big and stout as this one was, and\\r\\nnow he went up after Chatterer, growling angrily.\\r\\n\\r\\nHow Chatterer did wish that he had kept his tongue still! He ran to the\\r\\nvery top of the tree, so frightened that his teeth chattered, and when\\r\\nhe looked down and saw Buster\\'s great mouth coming nearer and nearer, he\\r\\nnearly tumbled down with terror. The worst of it was there wasn\\'t\\r\\nanother tree near enough for him to jump to. He was in trouble this\\r\\ntime, was Chatterer, sure enough! And there was no one to help him.\\r\\n\\r\\n\\r\\n\\r\\n\\r\\nXVI\\r\\n\\r\\nCHATTERER THE RED SQUIRREL JUMPS FOR HIS LIFE\\r\\n\\r\\n\\r\\nIt isn\\'t very often that Chatterer the Red Squirrel knows fear. That is\\r\\none reason that he is so often impudent and saucy. But once in a while a\\r\\ngreat fear takes possession of him, as when he knows that Shadow the\\r\\nWeasel is looking for him. You see, he knows that Shadow can go wherever\\r\\nhe can go. There are very few of the little people of the Green Forest\\r\\nand the Green Meadows who do not know fear at some time or other, but it\\r\\ncomes to Chatterer as seldom as to any one, because he is very sure of\\r\\nhimself and his ability to hide or run away from danger.\\r\\n\\r\\nBut now as he clung to a little branch near the top of a tall pine-tree\\r\\nin the Green Forest and looked down at the big sharp teeth of Buster\\r\\nBear drawing nearer and nearer, and listened to the deep, angry growls\\r\\nthat made his hair stand on end, Chatterer was too frightened to think.\\r\\nIf only he had kept his tongue still instead of saying hateful things to\\r\\nBuster Bear! If only he had known that Buster could climb a tree! If\\r\\nonly he had chosen a tree near enough to other trees for him to jump\\r\\nacross! But he _had_ said hateful things, he _had_ chosen to sit in a\\r\\ntree which stood quite by itself, and Buster Bear _could_ climb!\\r\\nChatterer was in the worst kind of trouble, and there was no one to\\r\\nblame but himself. That is usually the case with those who get into\\r\\ntrouble.\\r\\n\\r\\nNearer and nearer came Buster Bear, and deeper and angrier sounded his\\r\\nvoice. Chatterer gave a little frightened gasp and looked this way and\\r\\nlooked that way. What should he do? What _could_ he do! The ground\\r\\nseemed a terrible distance below. If only he had wings like Sammy Jay!\\r\\nBut he hadn\\'t.\\r\\n\\r\\n\"Gr-r-r-r!\" growled Buster Bear. \"I\\'ll teach you manners! I\\'ll teach you\\r\\nto treat your betters with respect! I\\'ll swallow you whole, that\\'s what\\r\\nI\\'ll do. Gr-r-r-r!\"\\r\\n\\r\\n\"Oh!\" cried Chatterer.\\r\\n\\r\\n\"Gr-r-r-r! I\\'ll eat you all up to the last hair on your tail!\" growled\\r\\nBuster, scrambling a little nearer.\\r\\n\\r\\n\"Oh! Oh!\" cried Chatterer, and ran out to the very tip of the little\\r\\nbranch to which he had been clinging. Now if Chatterer had only known\\r\\nit, Buster Bear couldn\\'t reach him way up there, because the tree was\\r\\ntoo small at the top for such a big fellow as Buster. But Chatterer\\r\\ndidn\\'t think of that. He gave one more frightened look down at those big\\r\\nteeth, then he shut his eyes and jumped--jumped straight out for the\\r\\nfar-away ground.\\r\\n\\r\\nIt was a long, long, long way down to the ground, and it certainly\\r\\nlooked as if such a little fellow as Chatterer must be killed. But\\r\\nChatterer had learned from Old Mother Nature that she had given him\\r\\ncertain things to help him at just such times, and one of them is the\\r\\npower to spread himself very flat. He did it now. He spread his arms and\\r\\nlegs out just as far as he could, and that kept him from falling as fast\\r\\nand as hard as he otherwise would have done, because being spread out so\\r\\nflat that way, the air held him up a little. And then there was his\\r\\ntail, that funny little tail he is so fond of jerking when he scolds.\\r\\nThis helped him too. It helped him keep his balance and keep from\\r\\nturning over and over.\\r\\n\\r\\nDown, down, down he sailed and landed on his feet. Of course, he hit the\\r\\nground pretty hard, and for just a second he quite lost his breath. But\\r\\nit was only for a second, and then he was scurrying off as fast as a\\r\\nfrightened Squirrel could. Buster Bear watched him and grinned.\\r\\n\\r\\n\"I didn\\'t catch him that time,\" he growled, \"but I guess I gave him a\\r\\ngood fright and taught him a lesson.\"\\r\\n\\r\\n\\r\\n\\r\\n\\r\\nXVII\\r\\n\\r\\nBUSTER BEAR GOES BERRYING\\r\\n\\r\\n\\r\\nBuster Bear is a great hand to talk to himself when he thinks no one is\\r\\naround to overhear. It\\'s a habit. However, it isn\\'t a bad habit unless\\r\\nit is carried too far. Any habit becomes bad, if it is carried too far.\\r\\nSuppose you had a secret, a real secret, something that nobody else knew\\r\\nand that you didn\\'t want anybody else to know. And suppose you had the\\r\\nhabit of talking to yourself. You might, without thinking, you know,\\r\\ntell that secret out loud to yourself, and some one might, just might\\r\\nhappen to overhear! Then there wouldn\\'t be any secret. That is the way\\r\\nthat a habit which isn\\'t bad in itself can become bad when it is\\r\\ncarried too far.\\r\\n\\r\\nNow Buster Bear had lived by himself in the Great Woods so long that\\r\\nthis habit of talking to himself had grown and grown. He did it just to\\r\\nkeep from being lonesome. Of course, when he came down to the Green\\r\\nForest to live, he brought all his habits with him. That is one thing\\r\\nabout habits,--you always take them with you wherever you go. So Buster\\r\\nbrought this habit of talking to himself down to the Green Forest, where\\r\\nhe had many more neighbors than he had in the Great Woods.\\r\\n\\r\\n\"Let me see, let me see, what is there to tempt my appetite?\" said\\r\\nBuster in his deep, grumbly-rumbly voice. \"I find my appetite isn\\'t what\\r\\nit ought to be. I need a change. Yes, Sir, I need a change. There is\\r\\nsomething I ought to have at this time of year, and I haven\\'t got it.\\r\\nThere is something that I used to have and don\\'t have now. Ha! I know! I\\r\\nneed some fresh fruit. That\\'s it--fresh fruit! It must be about berry\\r\\ntime now, and I\\'d forgotten all about it. My, my, my, how good some\\r\\nberries would taste! Now if I were back up there in the Great Woods I\\r\\ncould have all I could eat. Um-m-m-m! Makes my mouth water just to think\\r\\nof it. There ought to be some up in the Old Pasture. There ought to be a\\r\\nlot of \\'em up there. If I wasn\\'t afraid that some one would see me, I\\'d\\r\\ngo up there.\"\\r\\n\\r\\nBuster sighed. Then he sighed again. The more he thought about those\\r\\nberries he felt sure were growing in the Old Pasture, the more he wanted\\r\\nsome. It seemed to him that never in all his life had he wanted berries\\r\\nas he did now. He wandered about uneasily. He was hungry--hungry for\\r\\nberries and nothing else. By and by he began talking to himself again.\\r\\n\\r\\n\"If I wasn\\'t afraid of being seen, I\\'d go up to the Old Pasture this\\r\\nvery minute. Seems as if I could taste those berries.\" He licked his\\r\\nlips hungrily as he spoke. Then his face brightened. \"I know what I\\'ll\\r\\ndo! I\\'ll go up there at the very first peep of day to-morrow. I can eat\\r\\nall I want and get back to the Green Forest before there is any danger\\r\\nthat Farmer Brown\\'s boy or any one else I\\'m afraid of will see me.\\r\\nThat\\'s just what I\\'ll do. My, I wish to-morrow morning would hurry up\\r\\nand come.\"\\r\\n\\r\\nNow though Buster didn\\'t know it, some one had been listening, and that\\r\\nsome one was none other than Sammy Jay. When at last Buster lay down\\r\\nfor a nap, Sammy flew away, chuckling to himself. \"I believe I\\'ll visit\\r\\nthe Old Pasture to-morrow morning myself,\" thought he. \"I have an idea\\r\\nthat something interesting may happen if Buster doesn\\'t change his\\r\\nmind.\"\\r\\n\\r\\nSammy was on the lookout very early the next morning. The first Jolly\\r\\nLittle Sunbeams had only reached the Green Meadows and had not started\\r\\nto creep into the Green Forest, when he saw a big, dark form steal out\\r\\nof the Green Forest where it joins the Old Pasture. It moved very\\r\\nswiftly and silently, as if in a great hurry. Sammy knew who it was: it\\r\\nwas Buster Bear, and he was going berrying. Sammy waited a little until\\r\\nhe could see better. Then he too started for the Old Pasture.\\r\\n\\r\\n\\r\\n\\r\\n\\r\\nXVIII\\r\\n\\r\\nSOMEBODY ELSE GOES BERRYING\\r\\n\\r\\n\\r\\nIsn\\'t it funny how two people will often think of the same thing at the\\r\\nsame time, and neither one know that the other is thinking of it? That\\r\\nis just what happened the day that Buster Bear first thought of going\\r\\nberrying. While he was walking around in the Green Forest, talking to\\r\\nhimself about how hungry he was for some berries and how sure he was\\r\\nthat there must be some up in the Old Pasture, some one else was\\r\\nthinking about berries and about the Old Pasture too.\\r\\n\\r\\n\"Will you make me a berry pie if I will get the berries to-morrow?\"\\r\\nasked Farmer Brown\\'s boy of his mother.\\r\\n\\r\\nOf course Mrs. Brown promised that she would, and so that night Farmer\\r\\nBrown\\'s boy went to bed very early that he might get up early in the\\r\\nmorning, and all night long he dreamed of berries and berry pies. He was\\r\\nawake even before jolly, round, red Mr. Sun thought it was time to get\\r\\nup, and he was all ready to start for the Old Pasture when the first\\r\\nJolly Little Sunbeams came dancing across the Green Meadows. He carried\\r\\na big tin pail, and in the bottom of it, wrapped up in a piece of paper,\\r\\nwas a lunch, for he meant to stay until he filled that pail, if it took\\r\\nall day.\\r\\n\\r\\nNow the Old Pasture is very large. It lies at the foot of the Big\\r\\nMountain, and even extends a little way up on the Big Mountain. There is\\r\\nroom in it for many people to pick berries all day without even seeing\\r\\neach other, unless they roam about a great deal. You see, the bushes\\r\\ngrow very thick there, and you cannot see very far in any direction.\\r\\nJolly, round, red Mr. Sun had climbed a little way up in the sky by the\\r\\ntime Farmer Brown\\'s boy reached the Old Pasture, and was smiling down on\\r\\nall the Great World, and all the Great World seemed to be smiling back.\\r\\nFarmer Brown\\'s boy started to whistle, and then he stopped.\\r\\n\\r\\n\"If I whistle,\" thought he, \"everybody will know just where I am, and\\r\\nwill keep out of sight, and I never can get acquainted with folks if\\r\\nthey keep out of sight.\"\\r\\n\\r\\nYou see, Farmer Brown\\'s boy was just beginning to understand something\\r\\nthat Peter Rabbit and the other little people of the Green Meadows and\\r\\nthe Green Forest learned almost as soon as they learned to walk,--that\\r\\nif you don\\'t want to be seen, you mustn\\'t be heard. So he didn\\'t\\r\\nwhistle as he felt like doing, and he tried not to make a bit of noise\\r\\nas he followed an old cow-path towards a place where he knew the berries\\r\\ngrew thick and oh, so big, and all the time he kept his eyes wide open,\\r\\nand he kept his ears open too.\\r\\n\\r\\nThat is how he happened to hear a little cry, a very faint little cry.\\r\\nIf he had been whistling, he wouldn\\'t have heard it at all. He stopped\\r\\nto listen. He never had heard a cry just like it before. At first he\\r\\ncouldn\\'t make out just what it was or where it came from. But one thing\\r\\nhe was sure of, and that was that it was a cry of fright. He stood\\r\\nperfectly still and listened with all his might. There it was\\r\\nagain--\"Help! Help! Help\"--and it was very faint and sounded terribly\\r\\nfrightened. He waited a minute or two, but heard nothing more. Then he\\r\\nput down his pail and began a hurried look here, there, and everywhere.\\r\\nHe was sure that it had come from somewhere on the ground, so he peered\\r\\nbehind bushes and peeped behind logs and stones, and then just as he had\\r\\nabout given up hope of finding where it came from, he went around a\\r\\nlittle turn in the old cow-path, and there right in front of him was\\r\\nlittle Mr. Gartersnake, and what do you think he was doing? Well, I\\r\\ndon\\'t like to tell you, but he was trying to swallow one of the children\\r\\nof Stickytoes the Tree Toad. Of course Farmer Brown\\'s Boy didn\\'t let\\r\\nhim. He made little Mr. Gartersnake set Master Stickytoes free and held\\r\\nMr. Gartersnake until Master Stickytoes was safely out of reach.\\r\\n\\r\\n\\r\\n\\r\\n\\r\\nXIX\\r\\n\\r\\nBUSTER BEAR HAS A FINE TIME\\r\\n\\r\\n\\r\\nBuster Bear was having the finest time he had had since he came down\\r\\nfrom the Great Woods to live in the Green Forest. To be sure, he wasn\\'t\\r\\nin the Green Forest now, but he wasn\\'t far from it. He was in the Old\\r\\nPasture, one edge of which touches one edge of the Green Forest. And\\r\\nwhere do you think he was, in the Old Pasture? Why, right in the middle\\r\\nof the biggest patch of the biggest blueberries he ever had seen in all\\r\\nhis life! Now if there is any one thing that Buster Bear had rather have\\r\\nabove another, it is all the berries he can eat, unless it be honey.\\r\\nNothing can quite equal honey in Buster\\'s mind. But next to honey give\\r\\nhim berries. He isn\\'t particular what kind of berries. Raspberries,\\r\\nblackberries, or blueberries, either kind, will make him perfectly\\r\\nhappy.\\r\\n\\r\\n\"Um-m-m, my, my, but these are good!\" he mumbled in his deep\\r\\ngrumbly-rumbly voice, as he sat on his haunches stripping off the\\r\\nberries greedily. His little eyes twinkled with enjoyment, and he didn\\'t\\r\\nmind at all if now and then he got leaves, and some green berries in his\\r\\nmouth with the big ripe berries. He didn\\'t try to get them out. Oh, my,\\r\\nno! He just chomped them all up together and patted his stomach from\\r\\nsheer delight. Now Buster had reached the Old Pasture just as jolly,\\r\\nround, red Mr. Sun had crept out of bed, and he had fully made up his\\r\\nmind that he would be back in the Green Forest before Mr. Sun had\\r\\nclimbed very far up in the blue, blue sky. You see, big as he is and\\r\\nstrong as he is, Buster Bear is very shy and bashful, and he has no\\r\\ndesire to meet Farmer Brown, or Farmer Brown\\'s boy, or any other of\\r\\nthose two-legged creatures called men. It seems funny but he actually is\\r\\nafraid of them. And he had a feeling that he was a great deal more\\r\\nlikely to meet one of them in the Old Pasture than deep in the Green\\r\\nForest.\\r\\n\\r\\nSo when he started to look for berries, he made up his mind that he\\r\\nwould eat what he could in a great hurry and get back to the Green\\r\\nForest before Farmer Brown\\'s boy was more than out of bed. But when he\\r\\nfound those berries he was so hungry that he forgot his fears and\\r\\neverything else. They tasted so good that he just had to eat and eat\\r\\nand eat. Now you know that Buster is a very big fellow, and it takes a\\r\\nlot to fill him up. He kept eating and eating and eating, and the more\\r\\nhe ate the more he wanted. You know how it is. So he wandered from one\\r\\npatch of berries to another in the Old Pasture, and never once thought\\r\\nof the time. Somehow, time is the hardest thing in the world to\\r\\nremember, when you are having a good time.\\r\\n\\r\\nJolly, round, red Mr. Sun climbed higher and higher in the blue, blue\\r\\nsky. He looked down on all the Great World and saw all that was going\\r\\non. He saw Buster Bear in the Old Pasture, and smiled as he saw what a\\r\\nperfectly glorious time Buster was having. And he saw something else in\\r\\nthe Old Pasture that made his smile still broader. He saw Farmer Brown\\'s\\r\\nboy filling a great tin pail with blueberries, and he knew that Farmer\\r\\nBrown\\'s boy didn\\'t know that Buster Bear was anywhere about, and he knew\\r\\nthat Buster Bear didn\\'t know that Farmer Brown\\'s boy was anywhere about,\\r\\nand somehow he felt very sure that he would see something funny happen\\r\\nif they should chance to meet.\\r\\n\\r\\n\"Um-m-m, um-m-m,\" mumbled Buster Bear with his mouth full, as he moved\\r\\nalong to another patch of berries. And then he gave a little gasp of\\r\\nsurprise and delight. Right in front of him was a shiny thing just full\\r\\nof the finest, biggest, bluest berries! There were no leaves or green\\r\\nones there. Buster blinked his greedy little eyes rapidly and looked\\r\\nagain. No, he wasn\\'t dreaming. They were real berries, and all he had\\r\\ngot to do was to help himself. Buster looked sharply at the shiny thing\\r\\nthat held the berries. It seemed perfectly harmless. He reached out a\\r\\nbig paw and pushed it gently. It tipped over and spilled out a lot of\\r\\nthe berries. Yes, it was perfectly harmless. Buster gave a little sigh\\r\\nof pure happiness. He would eat those berries to the last one, and then\\r\\nhe would go home to the Green Forest.\\r\\n\\r\\n\\r\\n\\r\\n\\r\\nXX\\r\\n\\r\\nBUSTER BEAR CARRIES OFF THE PAIL OF FARMER BROWN\\'S BOY\\r\\n\\r\\n\\r\\nThe question is, did Buster Bear steal Farmer Brown\\'s boy\\'s pail? To\\r\\nsteal is to take something which belongs to some one else. There is no\\r\\ndoubt that he stole the berries that were in the pail when he found it,\\r\\nfor he deliberately ate them. He knew well enough that some one must\\r\\nhave picked them--for whoever heard of blueberries growing in tin pails?\\r\\nSo there is no doubt that when Buster took them, he stole them. But with\\r\\nthe pail it was different. He took the pail, but he didn\\'t mean to take\\r\\nit. In fact, he didn\\'t want that pail at all.\\r\\n\\r\\nYou see it was this way: When Buster found that big tin pail brimming\\r\\nfull of delicious berries in the shade of that big bush in the Old\\r\\nPasture, he didn\\'t stop to think whether or not he had a right to them.\\r\\nBuster is so fond of berries that from the very second that his greedy\\r\\nlittle eyes saw that pailful, he forgot everything but the feast that\\r\\nwas waiting for him right under his very nose. He didn\\'t think anything\\r\\nabout the right or wrong of helping himself. There before him were more\\r\\nberries than he had ever seen together at one time in all his life, and\\r\\nall he had to do was to eat and eat and eat. And that is just what he\\r\\ndid do. Of course he upset the pail, but he didn\\'t mind a little thing\\r\\nlike that. When he had gobbled up all the berries that rolled out, he\\r\\nthrust his nose into the pail to get all that were left in it. Just\\r\\nthen he heard a little noise, as if some one were coming. He threw up\\r\\nhis head to listen, and somehow, he never did know just how, the handle\\r\\nof the pail slipped back over his ears and caught there.\\r\\n\\r\\nThis was bad enough, but to make matters worse, just at that very minute\\r\\nhe heard a shrill, angry voice shout, \"Hi, there! Get out of there!\" He\\r\\ndidn\\'t need to be told whose voice that was. It was the voice of Farmer\\r\\nBrown\\'s boy. Right then and there Buster Bear nearly had a fit. There\\r\\nwas that awful pail fast over his head so that he couldn\\'t see a thing.\\r\\nOf course, that meant that he couldn\\'t run away, which was the thing of\\r\\nall things he most wanted to do, for big as he is and strong as he is,\\r\\nBuster is very shy and bashful when human beings are around. He growled\\r\\nand whined and squealed. He tried to back out of the pail and couldn\\'t.\\r\\nHe tried to shake it off and couldn\\'t. He tried to pull it off, but\\r\\nsomehow he couldn\\'t get hold of it. Then there was another yell. If\\r\\nBuster hadn\\'t been so frightened himself, he might have recognized that\\r\\nsecond yell as one of fright, for that is what it was. You see Farmer\\r\\nBrown\\'s boy had just discovered Buster Bear. When he had yelled the\\r\\nfirst time, he had supposed that it was one of the young cattle who live\\r\\nin the Old Pasture all summer, but when he saw Buster, he was just as\\r\\nbadly frightened as Buster himself. In fact, he was too surprised and\\r\\nfrightened even to run. After that second yell he just stood still and\\r\\nstared.\\r\\n\\r\\nBuster clawed at that awful thing on his head more frantically than\\r\\never. Suddenly it slipped off, so that he could see. He gave one\\r\\nfrightened look at Farmer Brown\\'s boy, and then with a mighty \"Woof!\" he\\r\\nstarted for the Green Forest as fast as his legs could take him, and\\r\\nthis was very fast indeed, let me tell you. He didn\\'t stop to pick out a\\r\\npath, but just crashed through the bushes as if they were nothing at\\r\\nall, just nothing at all. But the funniest thing of all is this--he took\\r\\nthat pail with him! Yes, Sir, Buster Bear ran away with the big tin pail\\r\\nof Farmer Brown\\'s boy! You see when it slipped off his head, the handle\\r\\nwas still around his neck, and there he was running away with a pail\\r\\nhanging from his neck! He didn\\'t want it. He would have given anything\\r\\nto get rid of it. But he took it because he couldn\\'t help it. And that\\r\\nbrings us back to the question, did Buster steal Farmer Brown\\'s boy\\'s\\r\\npail? What do you think?\\r\\n\\r\\n\\r\\n\\r\\n\\r\\nXXI\\r\\n\\r\\nSAMMY JAY MAKES THINGS WORSE FOR BUSTER BEAR\\r\\n\\r\\n\\r\\n\"Thief, thief, thief! Thief, thief, thief!\" Sammy Jay was screaming at\\r\\nthe top of his lungs, as he followed Buster Bear across the Old Pasture\\r\\ntowards the Green Forest. Never had he screamed so loud, and never had\\r\\nhis voice sounded so excited. The little people of the Green Forest, the\\r\\nGreen Meadows, and the Smiling Pool are so used to hearing Sammy cry\\r\\nthief that usually they think very little about it. But every blessed\\r\\none who heard Sammy this morning stopped whatever he was doing and\\r\\npricked up his ears to listen.\\r\\n\\r\\nSammy\\'s cousin, Blacky the Crow, just happened to be flying along the\\r\\nedge of the Old Pasture, and the minute he heard Sammy\\'s voice, he\\r\\nturned and flew over to see what it was all about. Just as soon as he\\r\\ncaught sight of Buster Bear running for the Green Forest as hard as ever\\r\\nhe could, he understood what had excited Sammy so. He was so surprised\\r\\nthat he almost forgot to keep his wings moving. Buster Bear had what\\r\\nlooked to Blacky very much like a tin pail hanging from his neck! No\\r\\nwonder Sammy was excited. Blacky beat his wings fiercely and started\\r\\nafter Sammy.\\r\\n\\r\\nAnd so they reached the edge of the Green Forest, Buster Bear running as\\r\\nhard as ever he could, Sammy Jay flying just behind him and screaming,\\r\\n\"Thief, thief, thief!\" at the top of his lungs, and behind him Blacky\\r\\nthe Crow, trying to catch up and yelling as loud as he could, \"Caw,\\r\\ncaw, caw! Come on, everybody! Come on! Come on!\"\\r\\n\\r\\nPoor Buster! It was bad enough to be frightened almost to death as he\\r\\nhad been up in the Old Pasture when the pail had caught over his head\\r\\njust as Farmer Brown\\'s boy had yelled at him. Then to have the handle of\\r\\nthe pail slip down around his neck so that he couldn\\'t get rid of the\\r\\npail but had to take it with him as he ran, was making a bad matter\\r\\nworse. Now to have all his neighbors of the Green Forest see him in such\\r\\na fix and make fun of him, was more than he could stand. He felt\\r\\nhumiliated. That is just another way of saying shamed. Yes, Sir, Buster\\r\\nfelt that he was shamed in the eyes of his neighbors, and he wanted\\r\\nnothing so much as to get away by himself, where no one could see him,\\r\\nand try to get rid of that dreadful pail. But Buster is so big that it\\r\\nis not easy for him to find a hiding place. So, when he reached the\\r\\nGreen Forest, he kept right on to the deepest, darkest, most lonesome\\r\\npart and crept under the thickest hemlock-tree he could find.\\r\\n\\r\\nBut it was of no use. The sharp eyes of Sammy Jay and Blacky the Crow\\r\\nsaw him. They actually flew into the very tree under which he was\\r\\nhiding, and how they did scream! Pretty soon Ol\\' Mistah Buzzard came\\r\\ndropping down out of the blue, blue sky and took a seat on a convenient\\r\\ndead tree, where he could see all that went on. Ol\\' Mistah Buzzard began\\r\\nto grin as soon as he saw that tin pail on Buster\\'s neck. Then came\\r\\nothers,--Redtail the Hawk, Scrapper the Kingbird, Redwing the Blackbird,\\r\\nDrummer the Woodpecker, Welcome Robin, Tommy Tit the Chickadee, Jenny\\r\\nWren, Redeye the Vireo, and ever so many more. They came from the Old\\r\\nOrchard, the Green Meadows, and even down by the Smiling Pool, for the\\r\\nvoices of Sammy Jay and Blacky the Crow carried far, and at the sound of\\r\\nthem everybody hurried over, sure that something exciting was going on.\\r\\n\\r\\nPresently Buster heard light footsteps, and peeping out, he saw Billy\\r\\nMink and Peter Rabbit and Jumper the Hare and Prickly Porky and Reddy\\r\\nFox and Jimmy Skunk. Even timid little Whitefoot the Wood Mouse was\\r\\nwhere he could peer out and see without being seen. Of course, Chatterer\\r\\nthe Red Squirrel and Happy Jack the Gray Squirrel were there. There they\\r\\nall sat in a great circle around him, each where he felt safe, but where\\r\\nhe could see, and every one of them laughing and making fun of Buster.\\r\\n\\r\\n\"Thief, thief, thief!\" screamed Sammy until his throat was sore. The\\r\\nworst of it was Buster knew that everybody knew that it was true. That\\r\\nawful pail was proof of it.\\r\\n\\r\\n\"I wish I never had thought of berries,\" growled Buster to himself.\\r\\n\\r\\n\\r\\n\\r\\n\\r\\nXXII\\r\\n\\r\\nBUSTER BEAR HAS A FIT OF TEMPER\\r\\n\\r\\n\\r\\n  A temper is a bad, bad thing\\r\\n    When once it gets away.\\r\\n  There\\'s nothing quite at all like it\\r\\n    To spoil a pleasant day.\\r\\n\\r\\nBuster Bear was in a terrible temper. Yes, Sir, Buster Bear was having\\r\\nthe worst fit of temper ever seen in the Green Forest. And the worst\\r\\npart of it all was that all his neighbors of the Green Forest and a\\r\\nwhole lot from the Green Meadows and the Smiling Pool were also there to\\r\\nsee it. It is bad enough to give way to temper when you are all alone,\\r\\nand there is no one to watch you, but when you let temper get the best\\r\\nof you right where others see you, oh, dear, dear, it certainly is a\\r\\nsorry sight.\\r\\n\\r\\nNow ordinarily Buster is one of the most good-natured persons in the\\r\\nworld. It takes a great deal to rouse his temper. He isn\\'t one tenth so\\r\\nquick tempered as Chatterer the Red Squirrel, or Sammy Jay, or Reddy\\r\\nFox. But when his temper is aroused and gets away from him, then watch\\r\\nout! It seemed to Buster that he had had all that he could stand that\\r\\nday and a little more. First had come the fright back there in the Old\\r\\nPasture. Then the pail had slipped down behind his ears and held fast,\\r\\nso he had run all the way to the Green Forest with it hanging about his\\r\\nneck. This was bad enough, for he knew just how funny he must look, and\\r\\nbesides, it was very uncomfortable. But to have Sammy Jay call everybody\\r\\nwithin hearing to come and see him was more than he could stand. It\\r\\nseemed to Buster as if everybody who lives in the Green Forest, on the\\r\\nGreen Meadows, or around the Smiling Brook, was sitting around his\\r\\nhiding place, laughing and making fun of him. It was more than any\\r\\nself-respecting Bear could stand.\\r\\n\\r\\nWith a roar of anger Buster Bear charged out of his hiding place. He\\r\\nrushed this way and that way! He roared with all his might! He was very\\r\\nterrible to see. Those who could fly, flew. Those who could climb,\\r\\nclimbed. And those who were swift of foot, ran. A few who could neither\\r\\nfly nor climb nor run fast, hid and lay shaking and trembling for fear\\r\\nthat Buster would find them. In less time than it takes to tell about\\r\\nit, Buster was alone. At least, he couldn\\'t see any one.\\r\\n\\r\\n[Illustration: Those who could fly, flew. Those who could climb,\\r\\nclimbed. _Page 112._]\\r\\n\\r\\nThen he vented his temper on the tin pail. He cuffed at it and pulled at\\r\\nit, all the time growling angrily. He lay down and clawed at it with his\\r\\nhind feet. At last the handle broke, and he was free! He shook himself.\\r\\nThen he jumped on the helpless pail. With a blow of a big paw he sent it\\r\\nclattering against a tree. He tried to bite it. Then he once more fell\\r\\nto knocking it this way and that way, until it was pounded flat, and no\\r\\none would ever have guessed that it had once been a pail.\\r\\n\\r\\nThen, and not till then, did Buster recover his usual good nature.\\r\\nLittle by little, as he thought it all over, a look of shame crept into\\r\\nhis face. \"I--I guess it wasn\\'t the fault of that thing. I ought to have\\r\\nknown enough to keep my head out of it,\" he said slowly and\\r\\nthoughtfully.\\r\\n\\r\\n\"You got no more than you deserve for stealing Farmer Brown\\'s boy\\'s\\r\\nberries,\" said Sammy Jay, who had come back and was looking on from the\\r\\ntop of a tree. \"You ought to know by this time that no good comes of\\r\\nstealing.\"\\r\\n\\r\\nBuster Bear looked up and grinned, and there was a twinkle in his eyes.\\r\\n\"You ought to know, Sammy Jay,\" said he. \"I hope you\\'ll always remember\\r\\nit.\"\\r\\n\\r\\n\"Thief, thief, thief!\" screamed Sammy, and flew away.\\r\\n\\r\\n\\r\\n\\r\\n\\r\\nXXIII\\r\\n\\r\\nFARMER BROWN\\'S BOY LUNCHES ON BERRIES\\r\\n\\r\\n\\r\\n  When things go wrong in spite of you\\r\\n  To smile\\'s the best thing you can do--\\r\\n  To smile and say, \"I\\'m mighty glad\\r\\n  They are no worse; they\\'re not so bad!\"\\r\\n\\r\\nThat is what Farmer Brown\\'s boy said when he found that Buster Bear had\\r\\nstolen the berries he had worked so hard to pick and then had run off\\r\\nwith the pail. You see, Farmer Brown\\'s boy is learning to be something\\r\\nof a philosopher, one of those people who accept bad things cheerfully\\r\\nand right away see how they are better than they might have been. When\\r\\nhe had first heard some one in the bushes where he had hidden his pail\\r\\nof berries, he had been very sure that it was one of the cows or young\\r\\ncattle who live in the Old Pasture during the summer. He had been afraid\\r\\nthat they might stupidly kick over the pail and spill the berries, and\\r\\nhe had hurried to drive whoever it was away. It hadn\\'t entered his head\\r\\nthat it could be anybody who would eat those berries.\\r\\n\\r\\nWhen he had yelled and Buster Bear had suddenly appeared, struggling to\\r\\nget off the pail which had caught over his head, Farmer Brown\\'s boy had\\r\\nbeen too frightened to even move. Then he had seen Buster tear away\\r\\nthrough the brush even more frightened than he was, and right away his\\r\\ncourage had begun to come back.\\r\\n\\r\\n\"If he is so afraid of me, I guess I needn\\'t be afraid of him,\" said\\r\\nhe. \"I\\'ve lost my berries, but it is worth it to find out that he is\\r\\nafraid of me. There are plenty more on the bushes, and all I\\'ve got to\\r\\ndo is to pick them. It might be worse.\"\\r\\n\\r\\nHe walked over to the place where the pail had been, and then he\\r\\nremembered that when Buster ran away he had carried the pail with him,\\r\\nhanging about his neck. He whistled. It was a comical little whistle of\\r\\nchagrin as he realized that he had nothing in which to put more berries,\\r\\neven if he picked them. \"It\\'s worse than I thought,\" cried he. \"That\\r\\nbear has cheated me out of that berry pie my mother promised me.\" Then\\r\\nhe began to laugh, as he thought of how funny Buster Bear had looked\\r\\nwith the pail about his neck, and then because, you know he is learning\\r\\nto be a philosopher, he once more repeated, \"It might have been worse.\\r\\nYes, indeed, it might have been worse. That bear might have tried to eat\\r\\nme instead of the berries. I guess I\\'ll go eat that lunch I left back by\\r\\nthe spring, and then I\\'ll go home. I can pick berries some other day.\"\\r\\n\\r\\nChuckling happily over Buster Bear\\'s great fright, Farmer Brown\\'s boy\\r\\ntramped back to the spring where he had left two thick sandwiches on a\\r\\nflat stone when he started to save his pail of berries. \"My, but those\\r\\nsandwiches will taste good,\" thought he. \"I\\'m glad they are big and\\r\\nthick. I never was hungrier in my life. Hello!\" This he exclaimed right\\r\\nout loud, for he had just come in sight of the flat stone where the\\r\\nsandwiches should have been, and they were not there. No, Sir, there\\r\\nwasn\\'t so much as a crumb left of those two thick sandwiches. You see,\\r\\nOld Man Coyote had found them and gobbled them up while Farmer Brown\\'s\\r\\nboy was away.\\r\\n\\r\\nBut Farmer Brown\\'s boy didn\\'t know anything about Old Man Coyote. He\\r\\nrubbed his eyes and stared everywhere, even up in the trees, as if he\\r\\nthought those sandwiches might be hanging up there. They had disappeared\\r\\nas completely as if they never had been, and Old Man Coyote had taken\\r\\ncare to leave no trace of his visit. Farmer Brown\\'s boy gaped foolishly\\r\\nthis way and that way. Then, instead of growing angry, a slow smile\\r\\nstole over his freckled face. \"I guess some one else was hungry too,\" he\\r\\nmuttered. \"Wonder who it was? Guess this Old Pasture is no place for me\\r\\nto-day. I\\'ll fill up on berries and then I\\'ll go home.\"\\r\\n\\r\\nSo Farmer Brown\\'s boy made his lunch on blueberries and then rather\\r\\nsheepishly he started for home to tell of all the strange things that\\r\\nhad happened to him in the Old Pasture. Two or three times, as he\\r\\ntrudged along, he stopped to scratch his head thoughtfully. \"I guess,\"\\r\\nsaid he at last, \"that I\\'m not so smart as I thought I was, and I\\'ve got\\r\\na lot to learn yet.\"\\r\\n\\r\\nThis is the end of the adventures of Buster Bear in this book\\r\\nbecause--guess why. Because Old Mr. Toad insists that I must write a\\r\\nbook about his adventures, and Old Mr. Toad is such a good friend of all\\r\\nof us that I am going to do it.\\r\\n\\r\\n\\r\\n'"
      ]
     },
     "execution_count": 26,
     "metadata": {},
     "output_type": "execute_result"
    }
   ],
   "source": [
    "raw"
   ]
  },
  {
   "cell_type": "markdown",
   "metadata": {},
   "source": [
    "raw取前20个字符"
   ]
  },
  {
   "cell_type": "code",
   "execution_count": 27,
   "metadata": {
    "collapsed": false
   },
   "outputs": [
    {
     "data": {
      "text/plain": [
       "'The Adventures of B'"
      ]
     },
     "execution_count": 27,
     "metadata": {},
     "output_type": "execute_result"
    }
   ],
   "source": [
    "raw[1:20]"
   ]
  },
  {
   "cell_type": "markdown",
   "metadata": {},
   "source": [
    "words取前20个词"
   ]
  },
  {
   "cell_type": "code",
   "execution_count": 28,
   "metadata": {
    "collapsed": true
   },
   "outputs": [],
   "source": [
    "words = gutenberg.words(\"burgess-busterbrown.txt\")"
   ]
  },
  {
   "cell_type": "code",
   "execution_count": 29,
   "metadata": {
    "collapsed": false
   },
   "outputs": [
    {
     "data": {
      "text/plain": [
       "['The',\n",
       " 'Adventures',\n",
       " 'of',\n",
       " 'Buster',\n",
       " 'Bear',\n",
       " 'by',\n",
       " 'Thornton',\n",
       " 'W',\n",
       " '.',\n",
       " 'Burgess',\n",
       " '1920',\n",
       " ']',\n",
       " 'I',\n",
       " 'BUSTER',\n",
       " 'BEAR',\n",
       " 'GOES',\n",
       " 'FISHING',\n",
       " 'Buster',\n",
       " 'Bear']"
      ]
     },
     "execution_count": 29,
     "metadata": {},
     "output_type": "execute_result"
    }
   ],
   "source": [
    "words[1:20]"
   ]
  },
  {
   "cell_type": "markdown",
   "metadata": {},
   "source": [
    "sents取前20句话"
   ]
  },
  {
   "cell_type": "code",
   "execution_count": 30,
   "metadata": {
    "collapsed": true
   },
   "outputs": [],
   "source": [
    "sents = gutenberg.sents(\"burgess-busterbrown.txt\")"
   ]
  },
  {
   "cell_type": "code",
   "execution_count": 31,
   "metadata": {
    "collapsed": false
   },
   "outputs": [
    {
     "data": {
      "text/plain": [
       "[['I'],\n",
       " ['BUSTER', 'BEAR', 'GOES', 'FISHING'],\n",
       " ['Buster',\n",
       "  'Bear',\n",
       "  'yawned',\n",
       "  'as',\n",
       "  'he',\n",
       "  'lay',\n",
       "  'on',\n",
       "  'his',\n",
       "  'comfortable',\n",
       "  'bed',\n",
       "  'of',\n",
       "  'leaves',\n",
       "  'and',\n",
       "  'watched',\n",
       "  'the',\n",
       "  'first',\n",
       "  'early',\n",
       "  'morning',\n",
       "  'sunbeams',\n",
       "  'creeping',\n",
       "  'through',\n",
       "  'the',\n",
       "  'Green',\n",
       "  'Forest',\n",
       "  'to',\n",
       "  'chase',\n",
       "  'out',\n",
       "  'the',\n",
       "  'Black',\n",
       "  'Shadows',\n",
       "  '.'],\n",
       " ['Once',\n",
       "  'more',\n",
       "  'he',\n",
       "  'yawned',\n",
       "  ',',\n",
       "  'and',\n",
       "  'slowly',\n",
       "  'got',\n",
       "  'to',\n",
       "  'his',\n",
       "  'feet',\n",
       "  'and',\n",
       "  'shook',\n",
       "  'himself',\n",
       "  '.'],\n",
       " ['Then',\n",
       "  'he',\n",
       "  'walked',\n",
       "  'over',\n",
       "  'to',\n",
       "  'a',\n",
       "  'big',\n",
       "  'pine',\n",
       "  '-',\n",
       "  'tree',\n",
       "  ',',\n",
       "  'stood',\n",
       "  'up',\n",
       "  'on',\n",
       "  'his',\n",
       "  'hind',\n",
       "  'legs',\n",
       "  ',',\n",
       "  'reached',\n",
       "  'as',\n",
       "  'high',\n",
       "  'up',\n",
       "  'on',\n",
       "  'the',\n",
       "  'trunk',\n",
       "  'of',\n",
       "  'the',\n",
       "  'tree',\n",
       "  'as',\n",
       "  'he',\n",
       "  'could',\n",
       "  ',',\n",
       "  'and',\n",
       "  'scratched',\n",
       "  'the',\n",
       "  'bark',\n",
       "  'with',\n",
       "  'his',\n",
       "  'great',\n",
       "  'claws',\n",
       "  '.'],\n",
       " ['After',\n",
       "  'that',\n",
       "  'he',\n",
       "  'yawned',\n",
       "  'until',\n",
       "  'it',\n",
       "  'seemed',\n",
       "  'as',\n",
       "  'if',\n",
       "  'his',\n",
       "  'jaws',\n",
       "  'would',\n",
       "  'crack',\n",
       "  ',',\n",
       "  'and',\n",
       "  'then',\n",
       "  'sat',\n",
       "  'down',\n",
       "  'to',\n",
       "  'think',\n",
       "  'what',\n",
       "  'he',\n",
       "  'wanted',\n",
       "  'for',\n",
       "  'breakfast',\n",
       "  '.'],\n",
       " ['While',\n",
       "  'he',\n",
       "  'sat',\n",
       "  'there',\n",
       "  ',',\n",
       "  'trying',\n",
       "  'to',\n",
       "  'make',\n",
       "  'up',\n",
       "  'his',\n",
       "  'mind',\n",
       "  'what',\n",
       "  'would',\n",
       "  'taste',\n",
       "  'best',\n",
       "  ',',\n",
       "  'he',\n",
       "  'was',\n",
       "  'listening',\n",
       "  'to',\n",
       "  'the',\n",
       "  'sounds',\n",
       "  'that',\n",
       "  'told',\n",
       "  'of',\n",
       "  'the',\n",
       "  'waking',\n",
       "  'of',\n",
       "  'all',\n",
       "  'the',\n",
       "  'little',\n",
       "  'people',\n",
       "  'who',\n",
       "  'live',\n",
       "  'in',\n",
       "  'the',\n",
       "  'Green',\n",
       "  'Forest',\n",
       "  '.'],\n",
       " ['He',\n",
       "  'heard',\n",
       "  'Sammy',\n",
       "  'Jay',\n",
       "  'way',\n",
       "  'off',\n",
       "  'in',\n",
       "  'the',\n",
       "  'distance',\n",
       "  'screaming',\n",
       "  ',',\n",
       "  '\"',\n",
       "  'Thief',\n",
       "  '!'],\n",
       " ['Thief', '!\"'],\n",
       " ['and', 'grinned', '.'],\n",
       " ['\"',\n",
       "  'I',\n",
       "  'wonder',\n",
       "  ',\"',\n",
       "  'thought',\n",
       "  'Buster',\n",
       "  ',',\n",
       "  '\"',\n",
       "  'if',\n",
       "  'some',\n",
       "  'one',\n",
       "  'has',\n",
       "  'stolen',\n",
       "  'Sammy',\n",
       "  \"'\",\n",
       "  's',\n",
       "  'breakfast',\n",
       "  ',',\n",
       "  'or',\n",
       "  'if',\n",
       "  'he',\n",
       "  'has',\n",
       "  'stolen',\n",
       "  'the',\n",
       "  'breakfast',\n",
       "  'of',\n",
       "  'some',\n",
       "  'one',\n",
       "  'else',\n",
       "  '.'],\n",
       " ['Probably', 'he', 'is', 'the', 'thief', 'himself', '.\"'],\n",
       " ['He',\n",
       "  'heard',\n",
       "  'Chatterer',\n",
       "  'the',\n",
       "  'Red',\n",
       "  'Squirrel',\n",
       "  'scolding',\n",
       "  'as',\n",
       "  'fast',\n",
       "  'as',\n",
       "  'he',\n",
       "  'could',\n",
       "  'make',\n",
       "  'his',\n",
       "  'tongue',\n",
       "  'go',\n",
       "  'and',\n",
       "  'working',\n",
       "  'himself',\n",
       "  'into',\n",
       "  'a',\n",
       "  'terrible',\n",
       "  'rage',\n",
       "  '.'],\n",
       " ['\"',\n",
       "  'Must',\n",
       "  'be',\n",
       "  'that',\n",
       "  'Chatterer',\n",
       "  'got',\n",
       "  'out',\n",
       "  'of',\n",
       "  'bed',\n",
       "  'the',\n",
       "  'wrong',\n",
       "  'way',\n",
       "  'this',\n",
       "  'morning',\n",
       "  ',\"',\n",
       "  'thought',\n",
       "  'he',\n",
       "  '.'],\n",
       " ['He',\n",
       "  'heard',\n",
       "  'Blacky',\n",
       "  'the',\n",
       "  'Crow',\n",
       "  'cawing',\n",
       "  'at',\n",
       "  'the',\n",
       "  'top',\n",
       "  'of',\n",
       "  'his',\n",
       "  'lungs',\n",
       "  ',',\n",
       "  'and',\n",
       "  'he',\n",
       "  'knew',\n",
       "  'by',\n",
       "  'the',\n",
       "  'sound',\n",
       "  'that',\n",
       "  'Blacky',\n",
       "  'was',\n",
       "  'getting',\n",
       "  'into',\n",
       "  'mischief',\n",
       "  'of',\n",
       "  'some',\n",
       "  'kind',\n",
       "  '.'],\n",
       " ['He',\n",
       "  'heard',\n",
       "  'the',\n",
       "  'sweet',\n",
       "  'voices',\n",
       "  'of',\n",
       "  'happy',\n",
       "  'little',\n",
       "  'singers',\n",
       "  ',',\n",
       "  'and',\n",
       "  'they',\n",
       "  'were',\n",
       "  'good',\n",
       "  'to',\n",
       "  'hear',\n",
       "  '.'],\n",
       " ['But',\n",
       "  'most',\n",
       "  'of',\n",
       "  'all',\n",
       "  'he',\n",
       "  'listened',\n",
       "  'to',\n",
       "  'a',\n",
       "  'merry',\n",
       "  ',',\n",
       "  'low',\n",
       "  ',',\n",
       "  'silvery',\n",
       "  'laugh',\n",
       "  'that',\n",
       "  'never',\n",
       "  'stopped',\n",
       "  'but',\n",
       "  'went',\n",
       "  'on',\n",
       "  'and',\n",
       "  'on',\n",
       "  ',',\n",
       "  'until',\n",
       "  'he',\n",
       "  'just',\n",
       "  'felt',\n",
       "  'as',\n",
       "  'if',\n",
       "  'he',\n",
       "  'must',\n",
       "  'laugh',\n",
       "  'too',\n",
       "  '.'],\n",
       " ['It', 'was', 'the', 'voice', 'of', 'the', 'Laughing', 'Brook', '.'],\n",
       " ['And',\n",
       "  'as',\n",
       "  'Buster',\n",
       "  'listened',\n",
       "  'it',\n",
       "  'suddenly',\n",
       "  'came',\n",
       "  'to',\n",
       "  'him',\n",
       "  'just',\n",
       "  'what',\n",
       "  'he',\n",
       "  'wanted',\n",
       "  'for',\n",
       "  'breakfast',\n",
       "  '.']]"
      ]
     },
     "execution_count": 31,
     "metadata": {},
     "output_type": "execute_result"
    }
   ],
   "source": [
    "sents[1:20]"
   ]
  },
  {
   "cell_type": "markdown",
   "metadata": {},
   "source": [
    "## Loading your own Corpus"
   ]
  },
  {
   "cell_type": "code",
   "execution_count": 32,
   "metadata": {
    "collapsed": true
   },
   "outputs": [],
   "source": [
    "from nltk.corpus import PlaintextCorpusReader"
   ]
  },
  {
   "cell_type": "code",
   "execution_count": 41,
   "metadata": {
    "collapsed": true
   },
   "outputs": [],
   "source": [
    "corpus_root = 'E:/学校/大三下/高级编程1-刘强/作业/week5/bilingual/bilingual'"
   ]
  },
  {
   "cell_type": "code",
   "execution_count": 71,
   "metadata": {
    "collapsed": false
   },
   "outputs": [],
   "source": [
    "wordlists = PlaintextCorpusReader(corpus_root, '.*\\.txt')"
   ]
  },
  {
   "cell_type": "code",
   "execution_count": 72,
   "metadata": {
    "collapsed": false,
    "scrolled": true
   },
   "outputs": [
    {
     "data": {
      "text/plain": [
       "['双语：关于清明节你可能不知道的6件事儿.txt',\n",
       " '双语：新西兰试行每周四天工作制.txt',\n",
       " '双语：霍金葬礼在剑桥举行 数千人为其送行.txt',\n",
       " '如何通过聊天模式评估情侣关系.txt',\n",
       " '怎样拍照才能更美.txt',\n",
       " '法国儿童入学年龄将从6岁降至3岁.txt',\n",
       " '火爆全球的锡箔球有何魔力.txt',\n",
       " '申请美国签证或需先提交社交媒体记录.txt']"
      ]
     },
     "execution_count": 72,
     "metadata": {},
     "output_type": "execute_result"
    }
   ],
   "source": [
    "wordlists.fileids()"
   ]
  },
  {
   "cell_type": "code",
   "execution_count": 73,
   "metadata": {
    "collapsed": false
   },
   "outputs": [
    {
     "data": {
      "text/plain": [
       "['It', '’', 's', 'holiday', 'season', 'yet', 'again', ...]"
      ]
     },
     "execution_count": 73,
     "metadata": {},
     "output_type": "execute_result"
    }
   ],
   "source": [
    "wordlists.words('双语：关于清明节你可能不知道的6件事儿.txt')"
   ]
  },
  {
   "cell_type": "code",
   "execution_count": 74,
   "metadata": {
    "collapsed": true
   },
   "outputs": [],
   "source": [
    "raw = wordlists.raw(\"双语：关于清明节你可能不知道的6件事儿.txt\")"
   ]
  },
  {
   "cell_type": "code",
   "execution_count": 79,
   "metadata": {
    "collapsed": false
   },
   "outputs": [
    {
     "data": {
      "text/plain": [
       "'It’s holiday season yet again in China! While we are enjoying this three-day holiday (April 5-7 with Tomb Sweeping Day falling on April 5), here are some facts you probably didn’t know about Tomb Sweeping Day.\\n\\n\\u3000\\u3000又放假啦！虽然我们在享受着三天假期（4月5日——7日，清明节为4月5日），但是关于清明节，有些事情你可能不知道。\\n\\n\\u3000\\u30001) The Chinese term for Tomb Sweeping Day is Qingming Jie (清明节), which means “clear and bright.” This name originated from Qingming Jieqi (清明节气), one of the 24 solar terms in the Chinese solar calendar. This solar term comes after the Spring Equinox and lasts 15 days, while the weather is getting nice and warm.\\n\\n\\u3000\\u30001）清明节的中文名为“Qingming Jie”，意味着“清晰和明亮”。这个名字起源于清明节气——中国阳历的24个节气之一。该节气在春分后，持续15天，期间天气越来越好，越来越暖。\\n\\n\\u3000\\u30002) During this period, people hang willow branches in memory of an official named Jie Zitui, who rather graphically cut his own flesh to feed a starving prince named Chong’er. After Chong’er became King Jinwen Gong, he remembered that he forgot to reward Jiezi Tui. When he went to Jie Zitui’s house, he found it empty; Jie had gone to Mian Mountain (绵山) to hide with his mother. Jinwen Gong set a fire around the mountain to smoke Jie Zitui out, but the official never appeared. After the fire burned out, Jinwen Gong found Jie and his mother’s corpses near a willow tree. In the tree hole, Jinwen Gong found a letter from Jie urging him to be a good king.\\n\\n\\u3000\\u30002）在这期间，人们悬挂柳枝，纪念一位名为介子推的官员，他割下了自己的肉喂一位名为重耳的王子。重耳成为晋文公后，他想起自己忘记奖赏介子推了。当他来到了介子推家中时，里面空无一人。为了与母亲隐居，介子推去了绵山。晋文公在绵山周边放火，企图用烟把介子推熏出来，但是他并未现身。火被熄灭后，晋文公发现，介子推和他母亲的尸体在一棵柳树旁。在树洞里，晋文公发现了介子推写给他的一封信，信件敦促他成为一位好君主。\\n\\n\\u3000\\u30003) The custom of tomb sweeping varies according to different areas in China. In Hebei (or northern China), tomb sweeping starts a week before actual Tomb Sweeping Day. In the south, people sweep tombs the day before Tomb Sweeping Day; the eve is also known as Cold Food Day. No matter where you are, nobody actually sweeps tombs on Tomb Sweeping Day.\\n\\n\\u3000\\u30003）扫墓的习俗各地不一。在河北（或北方），扫墓开始于清明节前一周。在南方，人们在清明节前一天扫墓。清明节前夕为寒食节。无论你在哪，事实上没有人会在清明节当天扫墓。\\n\\n\\u3000\\u30004) Qingming is also a time to welcome the spring and enjoy the changing of the seasons. Common outdoor activities include hiking, kite flying, and tree planting.\\n\\n\\n\\u3000\\u30004）清明也是迎接春天，享受季节变化的时候。一般的户外活动包括徒步旅行、放风筝和植树。\\n\\n\\u3000\\u30005) Not all Chinese ethnic minorities celebrate Tomb Sweeping Day, but there are 24 that do (thanks to the Hans’ influence) with sweeping tombs and their own customs. For example, the Tujia ethnic group eat pig heads and the Miao minority makes a type of pastry called Qingming Ba (清明耙) with mugwort and sticky rice.\\n\\n\\u3000\\u30005）不是所有的民族都过清明节，但是由于汉族的影响，有24个民族扫墓，他们各有传统。例如，土家族吃猪头，苗族做用艾蒿和糯米制成的清明粑。\\n\\n\\u3000\\u30006) People in the South of China eat qingtuan, a dumpling made out of glutinous rice and barley grass, but people in the North don’t have the same tradition.\\n\\n\\u3000\\u30006）南方人吃青团——一种由糯米和大麦草制成的面团，但是北方人没这传统。'"
      ]
     },
     "execution_count": 79,
     "metadata": {},
     "output_type": "execute_result"
    }
   ],
   "source": [
    "raw"
   ]
  },
  {
   "cell_type": "code",
   "execution_count": 76,
   "metadata": {
    "collapsed": false
   },
   "outputs": [],
   "source": [
    "sentences = wordlists.sents(\"双语：关于清明节你可能不知道的6件事儿.txt\")"
   ]
  },
  {
   "cell_type": "code",
   "execution_count": 77,
   "metadata": {
    "collapsed": false
   },
   "outputs": [
    {
     "data": {
      "text/plain": [
       "[['It', '’', 's', 'holiday', 'season', 'yet', 'again', 'in', 'China', '!'], ['While', 'we', 'are', 'enjoying', 'this', 'three', '-', 'day', 'holiday', '(', 'April', '5', '-', '7', 'with', 'Tomb', 'Sweeping', 'Day', 'falling', 'on', 'April', '5', '),', 'here', 'are', 'some', 'facts', 'you', 'probably', 'didn', '’', 't', 'know', 'about', 'Tomb', 'Sweeping', 'Day', '.'], ...]"
      ]
     },
     "execution_count": 77,
     "metadata": {},
     "output_type": "execute_result"
    }
   ],
   "source": [
    "sentences"
   ]
  },
  {
   "cell_type": "code",
   "execution_count": 78,
   "metadata": {
    "collapsed": false
   },
   "outputs": [
    {
     "name": "stdout",
     "output_type": "stream",
     "text": [
      "['It', '’', 's', 'holiday', 'season', 'yet', 'again', 'in', 'China', '!']\n",
      "['While', 'we', 'are', 'enjoying', 'this', 'three', '-', 'day', 'holiday', '(', 'April', '5', '-', '7', 'with', 'Tomb', 'Sweeping', 'Day', 'falling', 'on', 'April', '5', '),', 'here', 'are', 'some', 'facts', 'you', 'probably', 'didn', '’', 't', 'know', 'about', 'Tomb', 'Sweeping', 'Day', '.']\n",
      "['又放假啦', '！', '虽然我们在享受着三天假期', '（', '4月5日', '——', '7日', '，', '清明节为4月5日', '），', '但是关于清明节', '，', '有些事情你可能不知道', '。']\n",
      "['1', ')', 'The', 'Chinese', 'term', 'for', 'Tomb', 'Sweeping', 'Day', 'is', 'Qingming', 'Jie', '(', '清明节', '),', 'which', 'means', '“', 'clear', 'and', 'bright', '.”', 'This', 'name', 'originated', 'from', 'Qingming', 'Jieqi', '(', '清明节气', '),', 'one', 'of', 'the', '24', 'solar', 'terms', 'in', 'the', 'Chinese', 'solar', 'calendar', '.']\n",
      "['This', 'solar', 'term', 'comes', 'after', 'the', 'Spring', 'Equinox', 'and', 'lasts', '15', 'days', ',', 'while', 'the', 'weather', 'is', 'getting', 'nice', 'and', 'warm', '.']\n",
      "['1', '）', '清明节的中文名为', '“', 'Qingming', 'Jie', '”，', '意味着', '“', '清晰和明亮', '”。', '这个名字起源于清明节气', '——', '中国阳历的24个节气之一', '。', '该节气在春分后', '，', '持续15天', '，', '期间天气越来越好', '，', '越来越暖', '。']\n",
      "['2', ')', 'During', 'this', 'period', ',', 'people', 'hang', 'willow', 'branches', 'in', 'memory', 'of', 'an', 'official', 'named', 'Jie', 'Zitui', ',', 'who', 'rather', 'graphically', 'cut', 'his', 'own', 'flesh', 'to', 'feed', 'a', 'starving', 'prince', 'named', 'Chong', '’', 'er', '.']\n",
      "['After', 'Chong', '’', 'er', 'became', 'King', 'Jinwen', 'Gong', ',', 'he', 'remembered', 'that', 'he', 'forgot', 'to', 'reward', 'Jiezi', 'Tui', '.']\n",
      "['When', 'he', 'went', 'to', 'Jie', 'Zitui', '’', 's', 'house', ',', 'he', 'found', 'it', 'empty', ';', 'Jie', 'had', 'gone', 'to', 'Mian', 'Mountain', '(', '绵山', ')', 'to', 'hide', 'with', 'his', 'mother', '.']\n",
      "['Jinwen', 'Gong', 'set', 'a', 'fire', 'around', 'the', 'mountain', 'to', 'smoke', 'Jie', 'Zitui', 'out', ',', 'but', 'the', 'official', 'never', 'appeared', '.']\n",
      "['After', 'the', 'fire', 'burned', 'out', ',', 'Jinwen', 'Gong', 'found', 'Jie', 'and', 'his', 'mother', '’', 's', 'corpses', 'near', 'a', 'willow', 'tree', '.']\n",
      "['In', 'the', 'tree', 'hole', ',', 'Jinwen', 'Gong', 'found', 'a', 'letter', 'from', 'Jie', 'urging', 'him', 'to', 'be', 'a', 'good', 'king', '.']\n",
      "['2', '）', '在这期间', '，', '人们悬挂柳枝', '，', '纪念一位名为介子推的官员', '，', '他割下了自己的肉喂一位名为重耳的王子', '。', '重耳成为晋文公后', '，', '他想起自己忘记奖赏介子推了', '。', '当他来到了介子推家中时', '，', '里面空无一人', '。', '为了与母亲隐居', '，', '介子推去了绵山', '。', '晋文公在绵山周边放火', '，', '企图用烟把介子推熏出来', '，', '但是他并未现身', '。', '火被熄灭后', '，', '晋文公发现', '，', '介子推和他母亲的尸体在一棵柳树旁', '。', '在树洞里', '，', '晋文公发现了介子推写给他的一封信', '，', '信件敦促他成为一位好君主', '。']\n",
      "['3', ')', 'The', 'custom', 'of', 'tomb', 'sweeping', 'varies', 'according', 'to', 'different', 'areas', 'in', 'China', '.']\n",
      "['In', 'Hebei', '(', 'or', 'northern', 'China', '),', 'tomb', 'sweeping', 'starts', 'a', 'week', 'before', 'actual', 'Tomb', 'Sweeping', 'Day', '.']\n",
      "['In', 'the', 'south', ',', 'people', 'sweep', 'tombs', 'the', 'day', 'before', 'Tomb', 'Sweeping', 'Day', ';', 'the', 'eve', 'is', 'also', 'known', 'as', 'Cold', 'Food', 'Day', '.']\n",
      "['No', 'matter', 'where', 'you', 'are', ',', 'nobody', 'actually', 'sweeps', 'tombs', 'on', 'Tomb', 'Sweeping', 'Day', '.']\n",
      "['3', '）', '扫墓的习俗各地不一', '。', '在河北', '（', '或北方', '），', '扫墓开始于清明节前一周', '。', '在南方', '，', '人们在清明节前一天扫墓', '。', '清明节前夕为寒食节', '。', '无论你在哪', '，', '事实上没有人会在清明节当天扫墓', '。']\n",
      "['4', ')', 'Qingming', 'is', 'also', 'a', 'time', 'to', 'welcome', 'the', 'spring', 'and', 'enjoy', 'the', 'changing', 'of', 'the', 'seasons', '.']\n",
      "['Common', 'outdoor', 'activities', 'include', 'hiking', ',', 'kite', 'flying', ',', 'and', 'tree', 'planting', '.']\n",
      "['4', '）', '清明也是迎接春天', '，', '享受季节变化的时候', '。', '一般的户外活动包括徒步旅行', '、', '放风筝和植树', '。']\n",
      "['5', ')', 'Not', 'all', 'Chinese', 'ethnic', 'minorities', 'celebrate', 'Tomb', 'Sweeping', 'Day', ',', 'but', 'there', 'are', '24', 'that', 'do', '(', 'thanks', 'to', 'the', 'Hans', '’', 'influence', ')', 'with', 'sweeping', 'tombs', 'and', 'their', 'own', 'customs', '.']\n",
      "['For', 'example', ',', 'the', 'Tujia', 'ethnic', 'group', 'eat', 'pig', 'heads', 'and', 'the', 'Miao', 'minority', 'makes', 'a', 'type', 'of', 'pastry', 'called', 'Qingming', 'Ba', '(', '清明耙', ')', 'with', 'mugwort', 'and', 'sticky', 'rice', '.']\n",
      "['5', '）', '不是所有的民族都过清明节', '，', '但是由于汉族的影响', '，', '有24个民族扫墓', '，', '他们各有传统', '。', '例如', '，', '土家族吃猪头', '，', '苗族做用艾蒿和糯米制成的清明粑', '。']\n",
      "['6', ')', 'People', 'in', 'the', 'South', 'of', 'China', 'eat', 'qingtuan', ',', 'a', 'dumpling', 'made', 'out', 'of', 'glutinous', 'rice', 'and', 'barley', 'grass', ',', 'but', 'people', 'in', 'the', 'North', 'don', '’', 't', 'have', 'the', 'same', 'tradition', '.']\n",
      "['6', '）', '南方人吃青团', '——', '一种由糯米和大麦草制成的面团', '，', '但是北方人没这传统', '。']\n"
     ]
    }
   ],
   "source": [
    "for sentence in sentences:\n",
    "    print(sentence)"
   ]
  },
  {
   "cell_type": "markdown",
   "metadata": {},
   "source": [
    "### 另一种方式"
   ]
  },
  {
   "cell_type": "code",
   "execution_count": 53,
   "metadata": {
    "collapsed": true
   },
   "outputs": [],
   "source": [
    "from nltk.corpus import BracketParseCorpusReader"
   ]
  },
  {
   "cell_type": "code",
   "execution_count": 54,
   "metadata": {
    "collapsed": true
   },
   "outputs": [],
   "source": [
    "corpus_root = 'E:/学校/大三下/高级编程1-刘强/作业/week5/bilingual/bilingual'"
   ]
  },
  {
   "cell_type": "code",
   "execution_count": 58,
   "metadata": {
    "collapsed": true
   },
   "outputs": [],
   "source": [
    "file_pattern = r\".*\\.txt\""
   ]
  },
  {
   "cell_type": "code",
   "execution_count": 59,
   "metadata": {
    "collapsed": true
   },
   "outputs": [],
   "source": [
    "ptb = BracketParseCorpusReader(corpus_root, file_pattern)"
   ]
  },
  {
   "cell_type": "code",
   "execution_count": 60,
   "metadata": {
    "collapsed": false
   },
   "outputs": [
    {
     "data": {
      "text/plain": [
       "['双语：关于清明节你可能不知道的6件事儿.txt',\n",
       " '双语：新西兰试行每周四天工作制.txt',\n",
       " '双语：霍金葬礼在剑桥举行 数千人为其送行.txt',\n",
       " '如何通过聊天模式评估情侣关系.txt',\n",
       " '怎样拍照才能更美.txt',\n",
       " '法国儿童入学年龄将从6岁降至3岁.txt',\n",
       " '火爆全球的锡箔球有何魔力.txt',\n",
       " '申请美国签证或需先提交社交媒体记录.txt']"
      ]
     },
     "execution_count": 60,
     "metadata": {},
     "output_type": "execute_result"
    }
   ],
   "source": [
    "ptb.fileids()"
   ]
  },
  {
   "cell_type": "code",
   "execution_count": 64,
   "metadata": {
    "collapsed": false
   },
   "outputs": [
    {
     "data": {
      "text/plain": [
       "0"
      ]
     },
     "execution_count": 64,
     "metadata": {},
     "output_type": "execute_result"
    }
   ],
   "source": [
    "len(ptb.sents())"
   ]
  },
  {
   "cell_type": "code",
   "execution_count": 68,
   "metadata": {
    "collapsed": false
   },
   "outputs": [
    {
     "data": {
      "text/plain": [
       "[]"
      ]
     },
     "execution_count": 68,
     "metadata": {},
     "output_type": "execute_result"
    }
   ],
   "source": [
    "ptb.sents(fileids='双语：关于清明节你可能不知道的6件事儿.txt')"
   ]
  },
  {
   "cell_type": "code",
   "execution_count": 69,
   "metadata": {
    "collapsed": true
   },
   "outputs": [],
   "source": [
    "sentences =ptb.sents(\"双语：关于清明节你可能不知道的6件事儿.txt\")"
   ]
  },
  {
   "cell_type": "code",
   "execution_count": 70,
   "metadata": {
    "collapsed": false
   },
   "outputs": [
    {
     "data": {
      "text/plain": [
       "[]"
      ]
     },
     "execution_count": 70,
     "metadata": {},
     "output_type": "execute_result"
    }
   ],
   "source": [
    "sentences"
   ]
  },
  {
   "cell_type": "markdown",
   "metadata": {},
   "source": [
    "# 3. Processing Raw Text"
   ]
  },
  {
   "cell_type": "code",
   "execution_count": 81,
   "metadata": {
    "collapsed": false
   },
   "outputs": [],
   "source": [
    "from nltk import word_tokenize"
   ]
  },
  {
   "cell_type": "code",
   "execution_count": 82,
   "metadata": {
    "collapsed": true
   },
   "outputs": [],
   "source": [
    "tokens = word_tokenize(raw)"
   ]
  },
  {
   "cell_type": "code",
   "execution_count": 83,
   "metadata": {
    "collapsed": false
   },
   "outputs": [
    {
     "data": {
      "text/plain": [
       "list"
      ]
     },
     "execution_count": 83,
     "metadata": {},
     "output_type": "execute_result"
    }
   ],
   "source": [
    "type(tokens)"
   ]
  },
  {
   "cell_type": "code",
   "execution_count": 85,
   "metadata": {
    "collapsed": false
   },
   "outputs": [
    {
     "data": {
      "text/plain": [
       "['It’s',\n",
       " 'holiday',\n",
       " 'season',\n",
       " 'yet',\n",
       " 'again',\n",
       " 'in',\n",
       " 'China',\n",
       " '!',\n",
       " 'While',\n",
       " 'we',\n",
       " 'are',\n",
       " 'enjoying',\n",
       " 'this',\n",
       " 'three-day',\n",
       " 'holiday',\n",
       " '(',\n",
       " 'April',\n",
       " '5-7',\n",
       " 'with',\n",
       " 'Tomb',\n",
       " 'Sweeping',\n",
       " 'Day',\n",
       " 'falling',\n",
       " 'on',\n",
       " 'April',\n",
       " '5',\n",
       " ')',\n",
       " ',',\n",
       " 'here',\n",
       " 'are',\n",
       " 'some',\n",
       " 'facts',\n",
       " 'you',\n",
       " 'probably',\n",
       " 'didn’t',\n",
       " 'know',\n",
       " 'about',\n",
       " 'Tomb',\n",
       " 'Sweeping',\n",
       " 'Day',\n",
       " '.',\n",
       " '又放假啦！虽然我们在享受着三天假期（4月5日——7日，清明节为4月5日），但是关于清明节，有些事情你可能不知道。',\n",
       " '1',\n",
       " ')',\n",
       " 'The',\n",
       " 'Chinese',\n",
       " 'term',\n",
       " 'for',\n",
       " 'Tomb',\n",
       " 'Sweeping']"
      ]
     },
     "execution_count": 85,
     "metadata": {},
     "output_type": "execute_result"
    }
   ],
   "source": [
    "tokens[:50]"
   ]
  },
  {
   "cell_type": "code",
   "execution_count": null,
   "metadata": {
    "collapsed": true
   },
   "outputs": [],
   "source": []
  }
 ],
 "metadata": {
  "kernelspec": {
   "display_name": "Python [default]",
   "language": "python",
   "name": "python3"
  },
  "language_info": {
   "codemirror_mode": {
    "name": "ipython",
    "version": 3
   },
   "file_extension": ".py",
   "mimetype": "text/x-python",
   "name": "python",
   "nbconvert_exporter": "python",
   "pygments_lexer": "ipython3",
   "version": "3.5.2"
  }
 },
 "nbformat": 4,
 "nbformat_minor": 1
}
